{
 "cells": [
  {
   "cell_type": "code",
   "execution_count": 1,
   "metadata": {},
   "outputs": [],
   "source": [
    "import numpy as np\n",
    "from tqdm import tqdm\n",
    "import torch\n",
    "import torch.nn.functional as F\n",
    "from torch import nn, optim\n",
    "from torch.nn import init, Parameter\n",
    "from torch.utils.data import DataLoader\n",
    "from torchvision import datasets, transforms\n",
    "from logger import MeterLogger\n",
    "import time"
   ]
  },
  {
   "cell_type": "markdown",
   "metadata": {},
   "source": [
    "准备数据和定义超参数"
   ]
  },
  {
   "cell_type": "code",
   "execution_count": 2,
   "metadata": {},
   "outputs": [],
   "source": [
    "batch_size = 128\n",
    "learning_rate = 1e-2\n",
    "num_epoches = 10\n",
    "device = torch.device(\"cuda\" if torch.cuda.is_available() else \"cpu\") # whether GPU is supportted"
   ]
  },
  {
   "cell_type": "code",
   "execution_count": 3,
   "metadata": {},
   "outputs": [],
   "source": [
    "train_dataset = datasets.MNIST('../_data/mnist', train=True, transform=transforms.ToTensor(), download=False)\n",
    "test_dataset = datasets.MNIST('../_data/mnist', train=False, transform=transforms.ToTensor())\n",
    "\n",
    "train_loader = DataLoader(train_dataset, batch_size=batch_size, shuffle=True)\n",
    "test_loader = DataLoader(test_dataset, batch_size=batch_size, shuffle=False)"
   ]
  },
  {
   "cell_type": "code",
   "execution_count": 4,
   "metadata": {},
   "outputs": [],
   "source": [
    "class CNN(nn.Module):\n",
    "    def __init__(self):\n",
    "        super(CNN, self).__init__()\n",
    "        # 28*28: c_in=1, c_out=50, ker=5*5 -> out=12*12, from (28-5+1)/2\n",
    "        self.conv2d1 = nn.Conv2d(1, 50, 5, stride=2)\n",
    "        init.kaiming_normal_(self.conv2d1.weight)\n",
    "        init.constant_(self.conv2d1.bias, 0)\n",
    "        # 12*12: c_in=50, c_out=50, ker=5*5 -> out=4*4, from (12-5+1)/2\n",
    "        self.conv2d2 = nn.Conv2d(50, 50, 5, stride=2)\n",
    "        init.kaiming_normal_(self.conv2d2.weight)\n",
    "        init.constant_(self.conv2d2.bias, 0)\n",
    "        # 800 = channel * w * h = 50 * 4 * 4\n",
    "        self.linear1 = nn.Linear(800, 512)\n",
    "        init.kaiming_normal_(self.linear1.weight)\n",
    "        init.constant_(self.linear1.bias, 0)\n",
    "        self.linear2 = nn.Linear(512, 10)\n",
    "        init.kaiming_normal_(self.linear2.weight)\n",
    "        init.constant_(self.linear2.bias, 0)\n",
    "    \n",
    "    def forward(self, x):\n",
    "        x = self.conv2d1(x)\n",
    "        x = F.relu(x)\n",
    "        x = self.conv2d2(x)\n",
    "        x = F.relu(x)\n",
    "        x = x.reshape(-1, 800)\n",
    "        x = self.linear1(x)\n",
    "        x = F.relu(x)\n",
    "        x = self.linear2(x)\n",
    "        return x"
   ]
  },
  {
   "cell_type": "code",
   "execution_count": 5,
   "metadata": {},
   "outputs": [],
   "source": [
    "model = CNN().to(device)"
   ]
  },
  {
   "cell_type": "code",
   "execution_count": 6,
   "metadata": {},
   "outputs": [],
   "source": [
    "criterion = nn.CrossEntropyLoss()\n",
    "optimizer = optim.SGD(model.parameters(), lr=learning_rate, momentum=0.9, weight_decay=0.0005)"
   ]
  },
  {
   "cell_type": "code",
   "execution_count": 7,
   "metadata": {},
   "outputs": [],
   "source": [
    "def train(model, train_loader, criterion, optimizer, device):\n",
    "    \"\"\" Epoch operation in training phase \"\"\"\n",
    "    model.train()\n",
    "    train_loss = 0.\n",
    "    train_acc = 0.\n",
    "    for batch in tqdm(train_loader, desc='  - (Training)  '):\n",
    "        sample, label = batch\n",
    "        sample, label = sample.to(device), label.to(device)\n",
    "        # forward propagation\n",
    "        out = model(sample)\n",
    "        loss = criterion(out, label)\n",
    "        train_loss += loss * label.size(0)\n",
    "        _, pred = torch.max(out, 1)\n",
    "        num_correct = (pred == label).sum().item()\n",
    "        train_acc += num_correct\n",
    "        # backward propagation\n",
    "        optimizer.zero_grad()\n",
    "        loss.backward()\n",
    "        optimizer.step()\n",
    "    return train_loss, train_acc"
   ]
  },
  {
   "cell_type": "code",
   "execution_count": 8,
   "metadata": {},
   "outputs": [
    {
     "name": "stderr",
     "output_type": "stream",
     "text": [
      "  - (Training)  : 100%|██████████| 469/469 [00:04<00:00, 96.40it/s]\n",
      "  - (Training)  : 100%|██████████| 469/469 [00:04<00:00, 97.20it/s]\n",
      "  - (Training)  : 100%|██████████| 469/469 [00:04<00:00, 97.68it/s]\n",
      "  - (Training)  : 100%|██████████| 469/469 [00:04<00:00, 97.22it/s]\n",
      "  - (Training)  : 100%|██████████| 469/469 [00:06<00:00, 72.79it/s]\n",
      "  - (Training)  : 100%|██████████| 469/469 [00:06<00:00, 74.25it/s]\n",
      "  - (Training)  : 100%|██████████| 469/469 [00:05<00:00, 84.76it/s]\n",
      "  - (Training)  : 100%|██████████| 469/469 [00:06<00:00, 71.19it/s]\n",
      "  - (Training)  : 100%|██████████| 469/469 [00:06<00:00, 74.01it/s]\n",
      "  - (Training)  : 100%|██████████| 469/469 [00:06<00:00, 73.72it/s]"
     ]
    },
    {
     "name": "stdout",
     "output_type": "stream",
     "text": [
      "Total training time: 0.95 mins.\n"
     ]
    },
    {
     "name": "stderr",
     "output_type": "stream",
     "text": [
      "\n"
     ]
    }
   ],
   "source": [
    "begin = time.time()\n",
    "train_loss, train_acc = np.zeros(num_epoches), np.zeros(num_epoches)\n",
    "for epoch in range(num_epoches):\n",
    "#     print(f'Epoch {epoch+1}', '*' * 20)\n",
    "    loss, acc = train(model, train_loader, criterion, optimizer, device)\n",
    "    train_loss[epoch], train_acc[epoch] = loss/len(train_dataset), acc/len(train_dataset)\n",
    "#     print(f'Finish {epoch+1} training epoch, Loss: {train_loss[epoch]:.6f}, Acc: {train_acc[epoch]:.6f}')\n",
    "print(f\"Total training time: {(time.time()-begin)/60:.2f} mins.\")"
   ]
  }
 ],
 "metadata": {
  "kernelspec": {
   "display_name": "Python 3",
   "language": "python",
   "name": "python3"
  },
  "language_info": {
   "codemirror_mode": {
    "name": "ipython",
    "version": 3
   },
   "file_extension": ".py",
   "mimetype": "text/x-python",
   "name": "python",
   "nbconvert_exporter": "python",
   "pygments_lexer": "ipython3",
   "version": "3.6.5"
  }
 },
 "nbformat": 4,
 "nbformat_minor": 2
}
