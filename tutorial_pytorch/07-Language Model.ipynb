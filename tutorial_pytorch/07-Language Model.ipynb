{
 "cells": [
  {
   "cell_type": "markdown",
   "metadata": {},
   "source": [
    "## Language Model\n",
    "\n",
    "a failed example [**miss training data**]"
   ]
  },
  {
   "cell_type": "code",
   "execution_count": null,
   "metadata": {},
   "outputs": [],
   "source": [
    "import torch\n",
    "from torch.autograd import Variable\n",
    "from torch import nn, optim\n",
    "import notebook_finder\n",
    "from utils.corpus import Corpus"
   ]
  },
  {
   "cell_type": "code",
   "execution_count": null,
   "metadata": {},
   "outputs": [],
   "source": [
    "seq_length = 30"
   ]
  },
  {
   "cell_type": "code",
   "execution_count": null,
   "metadata": {},
   "outputs": [],
   "source": [
    "train_file = 'language/train.txt'\n",
    "valid_file = 'valid.txt'\n",
    "test_file = 'test.txt'\n",
    "train_corpus = Corpus()\n",
    "valid_corpus = Corpus()\n",
    "test_corpus =Corpus()"
   ]
  },
  {
   "cell_type": "code",
   "execution_count": null,
   "metadata": {},
   "outputs": [],
   "source": [
    "import objgraph\n",
    "objgraph.show_backrefs([train_corpus], filename='sample-backref-graph.png')"
   ]
  },
  {
   "cell_type": "code",
   "execution_count": null,
   "metadata": {},
   "outputs": [],
   "source": [
    "train_id = train_corpus.get_data(train_file)\n",
    "valid_id = valid_corpus.get_data(valid_file)\n",
    "test_id = test_corpus.get_data(test_file)"
   ]
  },
  {
   "cell_type": "code",
   "execution_count": null,
   "metadata": {},
   "outputs": [],
   "source": [
    "vocab_size = len(train_corpus.dic)\n",
    "num_batches = train_id.size(1) // seq_length"
   ]
  },
  {
   "cell_type": "code",
   "execution_count": null,
   "metadata": {},
   "outputs": [],
   "source": [
    "class languagemodel(nn.Module):\n",
    "    def __init__(self, vocab_size, embed_dim, hidden_size, num_layers):\n",
    "        super(languagemodel, self).__init__()\n",
    "        self.embed = nn.Embedding(vocab_size, embed_dim)\n",
    "        self.lstm = nn.LSTM(embed_dim, hidden_size, num_layers,\n",
    "                            batch_first=True)\n",
    "        self.linear = nn.Linear(hidden_size, vocab_size)\n",
    "\n",
    "    def forward(self, x, h):\n",
    "        x = self.embed(x)\n",
    "        x, hi = self.lstm(x, h)\n",
    "        b, s, h = x.size()\n",
    "        x = x.contiguous().view(b*s, h)\n",
    "        x = self.linear(x)\n",
    "        return x, hi"
   ]
  },
  {
   "cell_type": "code",
   "execution_count": null,
   "metadata": {},
   "outputs": [],
   "source": [
    "model = languagemodel(vocab_size, 128, 1024, 1)\n",
    "if torch.cuda.is_available():\n",
    "    model = model.cuda()"
   ]
  },
  {
   "cell_type": "code",
   "execution_count": null,
   "metadata": {},
   "outputs": [],
   "source": [
    "criterion = nn.CrossEntropyLoss()\n",
    "optimizer = optim.Adam(model.parameters(), lr=1e-3)"
   ]
  },
  {
   "cell_type": "code",
   "execution_count": null,
   "metadata": {},
   "outputs": [],
   "source": [
    "def detach(states):\n",
    "    return [Variable(state.data).cuda() for state in states]"
   ]
  },
  {
   "cell_type": "code",
   "execution_count": null,
   "metadata": {},
   "outputs": [],
   "source": [
    "for epoch in range(5):\n",
    "    print(f'epoch {epoch+1}')\n",
    "    print('*'*10)\n",
    "    running_loss = 0\n",
    "    if torch.cuda.is_available():\n",
    "        states = (Variable(torch.zeros(1, 20, 1024)).cuda(),\n",
    "                  Variable(torch.zeros(1, 20, 1024)).cuda())\n",
    "    else:\n",
    "        states = (Variable(torch.zeros(1, 20, 1024)),\n",
    "                  Variable(torch.zeros(1, 20, 1024)))\n",
    "\n",
    "    for i in range(0, train_id.size(1)-2*seq_length, seq_length):\n",
    "        input_x = train_id[:, i:(i+seq_length)]\n",
    "        label = train_id[:, (i+seq_length):(i+2*seq_length)]\n",
    "        if torch.cuda.is_available():\n",
    "            input_x = Variable(input_x).cuda()\n",
    "            label = Variable(label).cuda()\n",
    "            label = label.view(label.size(0)*label.size(1), 1)\n",
    "        else:\n",
    "            input_x = Variabel(input_x)\n",
    "            label = Variable(label)\n",
    "            label = label.view(label.size(0)*label.size(1), 1)\n",
    "        # forward\n",
    "        states = detach(states)\n",
    "        out, states = model(input_x, states)\n",
    "        loss = criterion(out, label.view(-1))\n",
    "        running_loss += loss.data[0]\n",
    "        # backward\n",
    "        optimizer.zero_grad()\n",
    "        loss.backward()\n",
    "        torch.nn.utils.clip_grad_norm(model.parameters(), 0.5)\n",
    "        optimizer.step()\n",
    "\n",
    "        step = (i+1) // seq_length\n",
    "        if step % 100 == 0:\n",
    "            print(f'Epoch [{epoch+1}/5], Step[{step}/{num_batches}], Loss: {loss.data[0]}')\n",
    "    \n",
    "    print(f'Loss: {running_loss}')"
   ]
  }
 ],
 "metadata": {
  "kernelspec": {
   "display_name": "Python 3",
   "language": "python",
   "name": "python3"
  },
  "language_info": {
   "codemirror_mode": {
    "name": "ipython",
    "version": 3
   },
   "file_extension": ".py",
   "mimetype": "text/x-python",
   "name": "python",
   "nbconvert_exporter": "python",
   "pygments_lexer": "ipython3",
   "version": "3.6.3"
  }
 },
 "nbformat": 4,
 "nbformat_minor": 2
}
