{
 "cells": [
  {
   "cell_type": "markdown",
   "metadata": {},
   "source": [
    "## Simple AutoEncoder\n",
    "\n",
    "The principal of autoencoder\n",
    "\n",
    "![Simple Autoencoder](../_imgs/autoencoder.png)"
   ]
  },
  {
   "cell_type": "code",
   "execution_count": 1,
   "metadata": {},
   "outputs": [],
   "source": [
    "import os\n",
    "import torch\n",
    "from torch import nn\n",
    "from torch.utils.data import DataLoader\n",
    "from torchvision import datasets, transforms\n",
    "from torchvision.utils import save_image"
   ]
  },
  {
   "cell_type": "code",
   "execution_count": 2,
   "metadata": {},
   "outputs": [],
   "source": [
    "if not os.path.exists('./save/mlp_ae'):\n",
    "    os.mkdir('./save/mlp_ae')"
   ]
  },
  {
   "cell_type": "code",
   "execution_count": 3,
   "metadata": {},
   "outputs": [],
   "source": [
    "def to_img(x):\n",
    "    x = 0.5 * (x + 1)\n",
    "    x = x.clamp(0, 1)\n",
    "    x = x.view(x.size(0), 1, 28, 28)\n",
    "    return x"
   ]
  },
  {
   "cell_type": "code",
   "execution_count": 4,
   "metadata": {},
   "outputs": [],
   "source": [
    "num_epoches = 100\n",
    "batch_size = 128\n",
    "learning_rate = 1e-3\n",
    "device = torch.device(\"cuda\" if torch.cuda.is_available() else \"cpu\") # whether GPU is supportted"
   ]
  },
  {
   "cell_type": "code",
   "execution_count": 5,
   "metadata": {},
   "outputs": [],
   "source": [
    "img_transform = transforms.Compose([transforms.ToTensor(), transforms.Normalize((0.5, 0.5, 0.5), (0.5, 0.5, 0.5))])"
   ]
  },
  {
   "cell_type": "code",
   "execution_count": 6,
   "metadata": {},
   "outputs": [],
   "source": [
    "dataset = datasets.MNIST('../_data/mnist', transform=img_transform)\n",
    "dataloader = DataLoader(dataset, batch_size=batch_size, shuffle=True)"
   ]
  },
  {
   "cell_type": "code",
   "execution_count": 7,
   "metadata": {},
   "outputs": [],
   "source": [
    "class autoencoder(nn.Module):\n",
    "    def __init__(self):\n",
    "        super(autoencoder, self).__init__()\n",
    "        self.encoder = nn.Sequential(\n",
    "            nn.Linear(28 * 28, 128), nn.ReLU(True),\n",
    "            nn.Linear(128, 64), nn.ReLU(True),\n",
    "            nn.Linear(64, 12), nn.ReLU(True),\n",
    "            nn.Linear(12, 3))\n",
    "        self.decoder = nn.Sequential(\n",
    "            nn.Linear(3, 12), nn.ReLU(True),\n",
    "            nn.Linear(12, 64), nn.ReLU(True),\n",
    "            nn.Linear(64, 128), nn.ReLU(True),\n",
    "            nn.Linear(128, 28 * 28),\n",
    "            nn.Tanh())\n",
    "\n",
    "    def forward(self, x):\n",
    "        x = self.encoder(x)\n",
    "        x = self.decoder(x)\n",
    "        return x"
   ]
  },
  {
   "cell_type": "code",
   "execution_count": 8,
   "metadata": {},
   "outputs": [],
   "source": [
    "model = autoencoder().to(device)\n",
    "criterion = nn.MSELoss()\n",
    "optimizer = torch.optim.Adam(model.parameters(), lr=learning_rate, weight_decay=1e-5)"
   ]
  },
  {
   "cell_type": "code",
   "execution_count": 9,
   "metadata": {},
   "outputs": [
    {
     "name": "stdout",
     "output_type": "stream",
     "text": [
      "epoch [1/100], loss:0.1979\n",
      "epoch [2/100], loss:0.1672\n",
      "epoch [3/100], loss:0.1794\n",
      "epoch [4/100], loss:0.1626\n",
      "epoch [5/100], loss:0.1512\n",
      "epoch [6/100], loss:0.1619\n",
      "epoch [7/100], loss:0.1495\n",
      "epoch [8/100], loss:0.1421\n",
      "epoch [9/100], loss:0.1441\n",
      "epoch [10/100], loss:0.1465\n",
      "epoch [11/100], loss:0.1517\n",
      "epoch [12/100], loss:0.1494\n",
      "epoch [13/100], loss:0.1287\n",
      "epoch [14/100], loss:0.1381\n",
      "epoch [15/100], loss:0.1421\n",
      "epoch [16/100], loss:0.1505\n",
      "epoch [17/100], loss:0.1334\n",
      "epoch [18/100], loss:0.1458\n",
      "epoch [19/100], loss:0.1268\n",
      "epoch [20/100], loss:0.1359\n",
      "epoch [21/100], loss:0.1249\n",
      "epoch [22/100], loss:0.1300\n",
      "epoch [23/100], loss:0.1404\n",
      "epoch [24/100], loss:0.1354\n",
      "epoch [25/100], loss:0.1327\n",
      "epoch [26/100], loss:0.1262\n",
      "epoch [27/100], loss:0.1486\n",
      "epoch [28/100], loss:0.1331\n",
      "epoch [29/100], loss:0.1286\n",
      "epoch [30/100], loss:0.1281\n",
      "epoch [31/100], loss:0.1220\n",
      "epoch [32/100], loss:0.1274\n",
      "epoch [33/100], loss:0.1257\n",
      "epoch [34/100], loss:0.1303\n",
      "epoch [35/100], loss:0.1379\n",
      "epoch [36/100], loss:0.1254\n",
      "epoch [37/100], loss:0.1379\n",
      "epoch [38/100], loss:0.1268\n",
      "epoch [39/100], loss:0.1315\n",
      "epoch [40/100], loss:0.1205\n",
      "epoch [41/100], loss:0.1262\n",
      "epoch [42/100], loss:0.1276\n",
      "epoch [43/100], loss:0.1232\n",
      "epoch [44/100], loss:0.1272\n",
      "epoch [45/100], loss:0.1253\n",
      "epoch [46/100], loss:0.1177\n",
      "epoch [47/100], loss:0.1298\n",
      "epoch [48/100], loss:0.1251\n",
      "epoch [49/100], loss:0.1274\n",
      "epoch [50/100], loss:0.1269\n",
      "epoch [51/100], loss:0.1260\n",
      "epoch [52/100], loss:0.1263\n",
      "epoch [53/100], loss:0.1275\n",
      "epoch [54/100], loss:0.1298\n",
      "epoch [55/100], loss:0.1183\n",
      "epoch [56/100], loss:0.1182\n",
      "epoch [57/100], loss:0.1204\n",
      "epoch [58/100], loss:0.1232\n",
      "epoch [59/100], loss:0.1278\n",
      "epoch [60/100], loss:0.1229\n",
      "epoch [61/100], loss:0.1184\n",
      "epoch [62/100], loss:0.1124\n",
      "epoch [63/100], loss:0.1275\n",
      "epoch [64/100], loss:0.1164\n",
      "epoch [65/100], loss:0.1264\n",
      "epoch [66/100], loss:0.1191\n",
      "epoch [67/100], loss:0.1185\n",
      "epoch [68/100], loss:0.1300\n",
      "epoch [69/100], loss:0.1178\n",
      "epoch [70/100], loss:0.1133\n",
      "epoch [71/100], loss:0.1180\n",
      "epoch [72/100], loss:0.1166\n",
      "epoch [73/100], loss:0.1246\n",
      "epoch [74/100], loss:0.1269\n",
      "epoch [75/100], loss:0.1303\n",
      "epoch [76/100], loss:0.1161\n",
      "epoch [77/100], loss:0.1222\n",
      "epoch [78/100], loss:0.1257\n",
      "epoch [79/100], loss:0.1191\n",
      "epoch [80/100], loss:0.1189\n",
      "epoch [81/100], loss:0.1236\n",
      "epoch [82/100], loss:0.1246\n",
      "epoch [83/100], loss:0.1121\n",
      "epoch [84/100], loss:0.1201\n",
      "epoch [85/100], loss:0.1190\n",
      "epoch [86/100], loss:0.1192\n",
      "epoch [87/100], loss:0.1305\n",
      "epoch [88/100], loss:0.1225\n",
      "epoch [89/100], loss:0.1236\n",
      "epoch [90/100], loss:0.1216\n",
      "epoch [91/100], loss:0.1128\n",
      "epoch [92/100], loss:0.1223\n",
      "epoch [93/100], loss:0.1192\n",
      "epoch [94/100], loss:0.1134\n",
      "epoch [95/100], loss:0.1255\n",
      "epoch [96/100], loss:0.1104\n",
      "epoch [97/100], loss:0.1133\n",
      "epoch [98/100], loss:0.1204\n",
      "epoch [99/100], loss:0.1225\n",
      "epoch [100/100], loss:0.1205\n"
     ]
    }
   ],
   "source": [
    "for epoch in range(num_epoches):\n",
    "    for data in dataloader:\n",
    "        img, _ = data\n",
    "        img = img.reshape(img.size(0), -1)\n",
    "        img = img.to(device)\n",
    "        # ===================forward=====================\n",
    "        output = model(img)\n",
    "        loss = criterion(output, img)\n",
    "        # ===================backward====================\n",
    "        optimizer.zero_grad()\n",
    "        loss.backward()\n",
    "        optimizer.step()\n",
    "    # ===================log========================\n",
    "    print(f'epoch [{epoch+1}/{num_epoches}], loss:{loss:.4f}')\n",
    "    if epoch % 10 == 0:\n",
    "        pic = to_img(output)\n",
    "        save_image(pic, 'save/mlp_ae/image_{}.png'.format(epoch))"
   ]
  },
  {
   "cell_type": "code",
   "execution_count": 11,
   "metadata": {},
   "outputs": [],
   "source": [
    "torch.save(model.state_dict(), 'save/mlp_ae/sim_autoencoder.pytorch')"
   ]
  }
 ],
 "metadata": {
  "kernelspec": {
   "display_name": "Python 3",
   "language": "python",
   "name": "python3"
  },
  "language_info": {
   "codemirror_mode": {
    "name": "ipython",
    "version": 3
   },
   "file_extension": ".py",
   "mimetype": "text/x-python",
   "name": "python",
   "nbconvert_exporter": "python",
   "pygments_lexer": "ipython3",
   "version": "3.6.3"
  }
 },
 "nbformat": 4,
 "nbformat_minor": 2
}
