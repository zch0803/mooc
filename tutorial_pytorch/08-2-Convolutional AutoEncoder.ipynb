{
 "cells": [
  {
   "cell_type": "markdown",
   "metadata": {},
   "source": [
    "## Convolutional AutoEncoder"
   ]
  },
  {
   "cell_type": "code",
   "execution_count": 1,
   "metadata": {},
   "outputs": [],
   "source": [
    "import os\n",
    "import torch\n",
    "from torch import nn\n",
    "from torch.utils.data import DataLoader\n",
    "from torchvision import datasets, transforms\n",
    "from torchvision.utils import save_image"
   ]
  },
  {
   "cell_type": "code",
   "execution_count": 2,
   "metadata": {},
   "outputs": [],
   "source": [
    "if not os.path.exists('save/conv_ae'):\n",
    "    os.mkdir('save/conv_ae')"
   ]
  },
  {
   "cell_type": "code",
   "execution_count": 3,
   "metadata": {},
   "outputs": [],
   "source": [
    "def to_img(x):\n",
    "    x = 0.5 * (x + 1)\n",
    "    x = x.clamp(0, 1)\n",
    "    x = x.reshape(x.size(0), 1, 28, 28)\n",
    "    return x"
   ]
  },
  {
   "cell_type": "code",
   "execution_count": 4,
   "metadata": {},
   "outputs": [],
   "source": [
    "num_epoches = 100\n",
    "batch_size = 128\n",
    "learning_rate = 1e-3\n",
    "device = torch.device(\"cuda\" if torch.cuda.is_available() else \"cpu\") # whether GPU is supportted"
   ]
  },
  {
   "cell_type": "code",
   "execution_count": 5,
   "metadata": {},
   "outputs": [],
   "source": [
    "img_transform = transforms.Compose([transforms.ToTensor(), transforms.Normalize((0.5, 0.5, 0.5), (0.5, 0.5, 0.5))])"
   ]
  },
  {
   "cell_type": "code",
   "execution_count": 6,
   "metadata": {},
   "outputs": [],
   "source": [
    "dataset = datasets.MNIST('../_data/mnist', transform=img_transform)\n",
    "dataloader = DataLoader(dataset, batch_size=batch_size, shuffle=True)"
   ]
  },
  {
   "cell_type": "code",
   "execution_count": 7,
   "metadata": {},
   "outputs": [],
   "source": [
    "class autoencoder(nn.Module):\n",
    "    def __init__(self):\n",
    "        super(autoencoder, self).__init__()\n",
    "        self.encoder = nn.Sequential(\n",
    "            nn.Conv2d(1, 16, 3, stride=3, padding=1), # b, 16, 10, 10\n",
    "            nn.ReLU(True),\n",
    "            nn.MaxPool2d(2, stride=2), # b, 16, 5, 5\n",
    "            nn.Conv2d(16, 8, 3, stride=2, padding=1), # b, 8, 3, 3\n",
    "            nn.ReLU(True),\n",
    "            nn.MaxPool2d(2, stride=1) # b, 8, 2, 2\n",
    "        )\n",
    "        self.decoder = nn.Sequential(\n",
    "            nn.ConvTranspose2d(8, 16, 3, stride=2), # b, 16, 5, 5\n",
    "            nn.ReLU(True),\n",
    "            nn.ConvTranspose2d(16, 8, 5, stride=3, padding=1), # b, 8, 15, 15\n",
    "            nn.ReLU(True),\n",
    "            nn.ConvTranspose2d(8, 1, 2, stride=2, padding=1), # b, 1, 28, 28\n",
    "            nn.Tanh()\n",
    "        )\n",
    "\n",
    "    def forward(self, x):\n",
    "        x = self.encoder(x)\n",
    "        x = self.decoder(x)\n",
    "        return x"
   ]
  },
  {
   "cell_type": "code",
   "execution_count": 8,
   "metadata": {},
   "outputs": [],
   "source": [
    "model = autoencoder().to(device)\n",
    "criterion = nn.MSELoss()\n",
    "optimizer = torch.optim.Adam(model.parameters(), lr=learning_rate, weight_decay=1e-5)"
   ]
  },
  {
   "cell_type": "code",
   "execution_count": 9,
   "metadata": {},
   "outputs": [
    {
     "name": "stdout",
     "output_type": "stream",
     "text": [
      "epoch [1/100], loss:0.2225\n",
      "epoch [2/100], loss:0.1832\n",
      "epoch [3/100], loss:0.1607\n",
      "epoch [4/100], loss:0.1493\n",
      "epoch [5/100], loss:0.1471\n",
      "epoch [6/100], loss:0.1386\n",
      "epoch [7/100], loss:0.1285\n",
      "epoch [8/100], loss:0.1294\n",
      "epoch [9/100], loss:0.1215\n",
      "epoch [10/100], loss:0.1158\n",
      "epoch [11/100], loss:0.1143\n",
      "epoch [12/100], loss:0.1122\n",
      "epoch [13/100], loss:0.1156\n",
      "epoch [14/100], loss:0.1122\n",
      "epoch [15/100], loss:0.1148\n",
      "epoch [16/100], loss:0.1105\n",
      "epoch [17/100], loss:0.1137\n",
      "epoch [18/100], loss:0.1064\n",
      "epoch [19/100], loss:0.0952\n",
      "epoch [20/100], loss:0.1035\n",
      "epoch [21/100], loss:0.1026\n",
      "epoch [22/100], loss:0.1071\n",
      "epoch [23/100], loss:0.1080\n",
      "epoch [24/100], loss:0.1037\n",
      "epoch [25/100], loss:0.0972\n",
      "epoch [26/100], loss:0.0999\n",
      "epoch [27/100], loss:0.0934\n",
      "epoch [28/100], loss:0.0948\n",
      "epoch [29/100], loss:0.0974\n",
      "epoch [30/100], loss:0.0983\n",
      "epoch [31/100], loss:0.0927\n",
      "epoch [32/100], loss:0.0959\n",
      "epoch [33/100], loss:0.0876\n",
      "epoch [34/100], loss:0.1022\n",
      "epoch [35/100], loss:0.0921\n",
      "epoch [36/100], loss:0.0949\n",
      "epoch [37/100], loss:0.0952\n",
      "epoch [38/100], loss:0.0899\n",
      "epoch [39/100], loss:0.0970\n",
      "epoch [40/100], loss:0.0959\n",
      "epoch [41/100], loss:0.0949\n",
      "epoch [42/100], loss:0.0996\n",
      "epoch [43/100], loss:0.0952\n",
      "epoch [44/100], loss:0.0962\n",
      "epoch [45/100], loss:0.0833\n",
      "epoch [46/100], loss:0.0955\n",
      "epoch [47/100], loss:0.0952\n",
      "epoch [48/100], loss:0.0965\n",
      "epoch [49/100], loss:0.0924\n",
      "epoch [50/100], loss:0.0933\n",
      "epoch [51/100], loss:0.0861\n",
      "epoch [52/100], loss:0.0910\n",
      "epoch [53/100], loss:0.0950\n",
      "epoch [54/100], loss:0.0851\n",
      "epoch [55/100], loss:0.0868\n",
      "epoch [56/100], loss:0.0941\n",
      "epoch [57/100], loss:0.0919\n",
      "epoch [58/100], loss:0.0892\n",
      "epoch [59/100], loss:0.0903\n",
      "epoch [60/100], loss:0.0849\n",
      "epoch [61/100], loss:0.0836\n",
      "epoch [62/100], loss:0.0926\n",
      "epoch [63/100], loss:0.0860\n",
      "epoch [64/100], loss:0.0828\n",
      "epoch [65/100], loss:0.0911\n",
      "epoch [66/100], loss:0.0900\n",
      "epoch [67/100], loss:0.0950\n",
      "epoch [68/100], loss:0.0931\n",
      "epoch [69/100], loss:0.0817\n",
      "epoch [70/100], loss:0.0863\n",
      "epoch [71/100], loss:0.0810\n",
      "epoch [72/100], loss:0.0939\n",
      "epoch [73/100], loss:0.0886\n",
      "epoch [74/100], loss:0.0823\n",
      "epoch [75/100], loss:0.0900\n",
      "epoch [76/100], loss:0.0938\n",
      "epoch [77/100], loss:0.0813\n",
      "epoch [78/100], loss:0.0962\n",
      "epoch [79/100], loss:0.0849\n",
      "epoch [80/100], loss:0.0852\n",
      "epoch [81/100], loss:0.0883\n",
      "epoch [82/100], loss:0.0915\n",
      "epoch [83/100], loss:0.0927\n",
      "epoch [84/100], loss:0.0861\n",
      "epoch [85/100], loss:0.0906\n",
      "epoch [86/100], loss:0.0788\n",
      "epoch [87/100], loss:0.0762\n",
      "epoch [88/100], loss:0.0869\n",
      "epoch [89/100], loss:0.0920\n",
      "epoch [90/100], loss:0.0817\n",
      "epoch [91/100], loss:0.0934\n",
      "epoch [92/100], loss:0.0809\n",
      "epoch [93/100], loss:0.0849\n",
      "epoch [94/100], loss:0.0851\n",
      "epoch [95/100], loss:0.0869\n",
      "epoch [96/100], loss:0.0824\n",
      "epoch [97/100], loss:0.0831\n",
      "epoch [98/100], loss:0.0933\n",
      "epoch [99/100], loss:0.0863\n",
      "epoch [100/100], loss:0.0886\n"
     ]
    }
   ],
   "source": [
    "for epoch in range(num_epoches):\n",
    "    for data in dataloader:\n",
    "        img, _ = data\n",
    "        img = img.to(device)\n",
    "        # ===================forward=====================\n",
    "        output = model(img)\n",
    "        loss = criterion(output, img)\n",
    "        # ===================backward====================\n",
    "        optimizer.zero_grad()\n",
    "        loss.backward()\n",
    "        optimizer.step()\n",
    "    # ===================log========================\n",
    "    print(f'epoch [{epoch+1}/{num_epoches}], loss:{loss:.4f}')\n",
    "    if epoch % 10 == 0:\n",
    "        pic = to_img(output)\n",
    "        save_image(pic, 'save/conv_ae/image_{}.png'.format(epoch))"
   ]
  },
  {
   "cell_type": "code",
   "execution_count": 10,
   "metadata": {},
   "outputs": [],
   "source": [
    "torch.save(model.state_dict(), 'save/conv_ae/conv_autoencoder.pytorch')"
   ]
  }
 ],
 "metadata": {
  "kernelspec": {
   "display_name": "Python 3",
   "language": "python",
   "name": "python3"
  },
  "language_info": {
   "codemirror_mode": {
    "name": "ipython",
    "version": 3
   },
   "file_extension": ".py",
   "mimetype": "text/x-python",
   "name": "python",
   "nbconvert_exporter": "python",
   "pygments_lexer": "ipython3",
   "version": "3.6.3"
  }
 },
 "nbformat": 4,
 "nbformat_minor": 2
}
