{
 "cells": [
  {
   "cell_type": "markdown",
   "metadata": {},
   "source": [
    "## Recurrent Neural Network"
   ]
  },
  {
   "cell_type": "code",
   "execution_count": 1,
   "metadata": {},
   "outputs": [],
   "source": [
    "import torch\n",
    "from torch import nn, optim\n",
    "from torch.utils.data import DataLoader\n",
    "from torchvision import datasets, transforms"
   ]
  },
  {
   "cell_type": "markdown",
   "metadata": {},
   "source": [
    "定义超参数"
   ]
  },
  {
   "cell_type": "code",
   "execution_count": 2,
   "metadata": {},
   "outputs": [],
   "source": [
    "batch_size = 100\n",
    "learning_rate = 1e-3\n",
    "num_epoches = 20\n",
    "device = torch.device(\"cuda\" if torch.cuda.is_available() else \"cpu\") # whether GPU is supportted"
   ]
  },
  {
   "cell_type": "markdown",
   "metadata": {},
   "source": [
    "使用手写数字训练集 MNIST"
   ]
  },
  {
   "cell_type": "code",
   "execution_count": 3,
   "metadata": {},
   "outputs": [],
   "source": [
    "train_dataset = datasets.MNIST('../_data/mnist', train=True, transform=transforms.ToTensor(), download=False)\n",
    "test_dataset = datasets.MNIST('../_data/mnist', train=False, transform=transforms.ToTensor())\n",
    "\n",
    "train_loader = DataLoader(train_dataset, batch_size=batch_size, shuffle=True)\n",
    "test_loader = DataLoader(test_dataset, batch_size=batch_size, shuffle=False)"
   ]
  },
  {
   "cell_type": "markdown",
   "metadata": {},
   "source": [
    "定义 RNN 模型"
   ]
  },
  {
   "cell_type": "code",
   "execution_count": 5,
   "metadata": {},
   "outputs": [],
   "source": [
    "class RNN(nn.Module):\n",
    "    def __init__(self, in_dim, hidden_dim, n_layer, n_class):\n",
    "        super(RNN, self).__init__()\n",
    "        self.n_layer = n_layer\n",
    "        self.hidden_dim = hidden_dim\n",
    "        self.lstm = nn.LSTM(in_dim, hidden_dim, n_layer, batch_first=True)\n",
    "        self.classifier = nn.Linear(hidden_dim, n_class)\n",
    "        \n",
    "    def forward(self, x):\n",
    "        # h0 = torch.zeros(self.n_layer, x.size(1), self.hidden_dim)\n",
    "        # c0 = torch.zeros(self.n_layer, x.size(1), self.hidden_dim)\n",
    "        out, _ = self.lstm(x)\n",
    "        out = out[:, -1, :]\n",
    "        out = self.classifier(out)\n",
    "        return out"
   ]
  },
  {
   "cell_type": "code",
   "execution_count": 6,
   "metadata": {},
   "outputs": [],
   "source": [
    "model = RNN(28, 128, 2, 10).to(device)"
   ]
  },
  {
   "cell_type": "markdown",
   "metadata": {},
   "source": [
    "定义 loss 和 optimizer"
   ]
  },
  {
   "cell_type": "code",
   "execution_count": 7,
   "metadata": {},
   "outputs": [],
   "source": [
    "criterion = nn.CrossEntropyLoss()\n",
    "optimizer = optim.Adam(model.parameters(), lr=learning_rate)"
   ]
  },
  {
   "cell_type": "markdown",
   "metadata": {},
   "source": [
    "开始训练"
   ]
  },
  {
   "cell_type": "code",
   "execution_count": 8,
   "metadata": {},
   "outputs": [
    {
     "name": "stdout",
     "output_type": "stream",
     "text": [
      "epoch 1\n",
      "**********\n",
      "[1/20] Loss: 0.744422, Acc: 0.743600\n",
      "[1/20] Loss: 0.479028, Acc: 0.839583\n",
      "Finish 1 epoch, Loss: 0.479028, Acc: 0.839583\n",
      "Test Loss: 0.169761, Acc: 0.948400\n",
      "epoch 2\n",
      "**********\n",
      "[2/20] Loss: 0.131118, Acc: 0.960300\n",
      "[2/20] Loss: 0.120595, Acc: 0.963417\n",
      "Finish 2 epoch, Loss: 0.120595, Acc: 0.963417\n",
      "Test Loss: 0.086032, Acc: 0.973100\n",
      "epoch 3\n",
      "**********\n",
      "[3/20] Loss: 0.087747, Acc: 0.973400\n",
      "[3/20] Loss: 0.080368, Acc: 0.975500\n",
      "Finish 3 epoch, Loss: 0.080368, Acc: 0.975500\n",
      "Test Loss: 0.072342, Acc: 0.978600\n",
      "epoch 4\n",
      "**********\n",
      "[4/20] Loss: 0.060698, Acc: 0.981333\n",
      "[4/20] Loss: 0.061054, Acc: 0.981267\n",
      "Finish 4 epoch, Loss: 0.061054, Acc: 0.981267\n",
      "Test Loss: 0.061365, Acc: 0.983000\n",
      "epoch 5\n",
      "**********\n",
      "[5/20] Loss: 0.047765, Acc: 0.985667\n",
      "[5/20] Loss: 0.048526, Acc: 0.985083\n",
      "Finish 5 epoch, Loss: 0.048526, Acc: 0.985083\n",
      "Test Loss: 0.049405, Acc: 0.985300\n",
      "epoch 6\n",
      "**********\n",
      "[6/20] Loss: 0.040258, Acc: 0.987333\n",
      "[6/20] Loss: 0.040447, Acc: 0.987183\n",
      "Finish 6 epoch, Loss: 0.040447, Acc: 0.987183\n",
      "Test Loss: 0.058834, Acc: 0.983000\n",
      "epoch 7\n",
      "**********\n",
      "[7/20] Loss: 0.038908, Acc: 0.988000\n",
      "[7/20] Loss: 0.037832, Acc: 0.988200\n",
      "Finish 7 epoch, Loss: 0.037832, Acc: 0.988200\n",
      "Test Loss: 0.045912, Acc: 0.986400\n",
      "epoch 8\n",
      "**********\n",
      "[8/20] Loss: 0.031783, Acc: 0.990300\n",
      "[8/20] Loss: 0.029748, Acc: 0.991000\n",
      "Finish 8 epoch, Loss: 0.029748, Acc: 0.991000\n",
      "Test Loss: 0.052292, Acc: 0.985400\n",
      "epoch 9\n",
      "**********\n",
      "[9/20] Loss: 0.030924, Acc: 0.990167\n",
      "[9/20] Loss: 0.028134, Acc: 0.991217\n",
      "Finish 9 epoch, Loss: 0.028134, Acc: 0.991217\n",
      "Test Loss: 0.046999, Acc: 0.985800\n",
      "epoch 10\n",
      "**********\n",
      "[10/20] Loss: 0.024235, Acc: 0.992100\n",
      "[10/20] Loss: 0.025612, Acc: 0.991683\n",
      "Finish 10 epoch, Loss: 0.025612, Acc: 0.991683\n",
      "Test Loss: 0.039189, Acc: 0.989000\n",
      "epoch 11\n",
      "**********\n",
      "[11/20] Loss: 0.022806, Acc: 0.992900\n",
      "[11/20] Loss: 0.022589, Acc: 0.993167\n",
      "Finish 11 epoch, Loss: 0.022589, Acc: 0.993167\n",
      "Test Loss: 0.036255, Acc: 0.989200\n",
      "epoch 12\n",
      "**********\n",
      "[12/20] Loss: 0.018839, Acc: 0.993233\n",
      "[12/20] Loss: 0.020788, Acc: 0.992883\n",
      "Finish 12 epoch, Loss: 0.020788, Acc: 0.992883\n",
      "Test Loss: 0.041682, Acc: 0.988800\n",
      "epoch 13\n",
      "**********\n",
      "[13/20] Loss: 0.017140, Acc: 0.994367\n",
      "[13/20] Loss: 0.017417, Acc: 0.994383\n",
      "Finish 13 epoch, Loss: 0.017417, Acc: 0.994383\n",
      "Test Loss: 0.041139, Acc: 0.988800\n",
      "epoch 14\n",
      "**********\n",
      "[14/20] Loss: 0.016107, Acc: 0.994567\n",
      "[14/20] Loss: 0.016496, Acc: 0.994600\n",
      "Finish 14 epoch, Loss: 0.016496, Acc: 0.994600\n",
      "Test Loss: 0.033696, Acc: 0.989700\n",
      "epoch 15\n",
      "**********\n",
      "[15/20] Loss: 0.013516, Acc: 0.995867\n",
      "[15/20] Loss: 0.015882, Acc: 0.994783\n",
      "Finish 15 epoch, Loss: 0.015882, Acc: 0.994783\n",
      "Test Loss: 0.042736, Acc: 0.989000\n",
      "epoch 16\n",
      "**********\n",
      "[16/20] Loss: 0.015823, Acc: 0.995067\n",
      "[16/20] Loss: 0.015163, Acc: 0.995217\n",
      "Finish 16 epoch, Loss: 0.015163, Acc: 0.995217\n",
      "Test Loss: 0.040842, Acc: 0.988600\n",
      "epoch 17\n",
      "**********\n",
      "[17/20] Loss: 0.015295, Acc: 0.995167\n",
      "[17/20] Loss: 0.013686, Acc: 0.995483\n",
      "Finish 17 epoch, Loss: 0.013686, Acc: 0.995483\n",
      "Test Loss: 0.044502, Acc: 0.988400\n",
      "epoch 18\n",
      "**********\n",
      "[18/20] Loss: 0.012074, Acc: 0.996100\n",
      "[18/20] Loss: 0.014108, Acc: 0.995467\n",
      "Finish 18 epoch, Loss: 0.014108, Acc: 0.995467\n",
      "Test Loss: 0.039479, Acc: 0.989500\n",
      "epoch 19\n",
      "**********\n",
      "[19/20] Loss: 0.008663, Acc: 0.997333\n",
      "[19/20] Loss: 0.010744, Acc: 0.996400\n",
      "Finish 19 epoch, Loss: 0.010744, Acc: 0.996400\n",
      "Test Loss: 0.031083, Acc: 0.990900\n",
      "epoch 20\n",
      "**********\n",
      "[20/20] Loss: 0.006345, Acc: 0.998167\n",
      "[20/20] Loss: 0.010106, Acc: 0.996950\n",
      "Finish 20 epoch, Loss: 0.010106, Acc: 0.996950\n",
      "Test Loss: 0.040519, Acc: 0.989900\n"
     ]
    }
   ],
   "source": [
    "for epoch in range(num_epoches):\n",
    "    print(f'epoch {epoch+1}')\n",
    "    print('*' * 10)\n",
    "    running_loss = 0.0\n",
    "    running_acc = 0.0\n",
    "    model.train()\n",
    "    for i, data in enumerate(train_loader, 1):\n",
    "        img, label = data\n",
    "        b, c, h, w = img.size()\n",
    "        assert c == 1, 'channel must be 1'\n",
    "        img = img.squeeze(1)\n",
    "        # img = img.view(b*h, w)\n",
    "        # img = torch.transpose(img, 1, 0)\n",
    "        # img = img.contiguous().view(w, b, -1) # now have reshape() function\n",
    "        img, label = img.to(device), label.to(device)\n",
    "        # forward propagation\n",
    "        out = model(img)\n",
    "        loss = criterion(out, label)\n",
    "        running_loss += loss * label.size(0)\n",
    "        _, pred = torch.max(out, 1)\n",
    "        num_correct = (pred == label).sum().float()\n",
    "        running_acc += num_correct\n",
    "        # backward propagation\n",
    "        optimizer.zero_grad()\n",
    "        loss.backward()\n",
    "        optimizer.step()\n",
    "        \n",
    "        if i % 300 == 0:\n",
    "            print(f'[{epoch+1}/{num_epoches}] Loss: {running_loss/(batch_size * i):.6f}, Acc: {running_acc/(batch_size * i):.6f}')\n",
    "    print(f'Finish {epoch+1} epoch, Loss: {running_loss/(len(train_dataset)):.6f}, Acc: {running_acc/(len(train_dataset)):.6f}')\n",
    "    model.eval()\n",
    "    eval_loss = 0.\n",
    "    eval_acc = 0.\n",
    "    for data in test_loader:\n",
    "        img, label = data\n",
    "        b, c, h, w = img.size()\n",
    "        assert c == 1, 'channel must be 1'\n",
    "        img = img.squeeze()\n",
    "        # img = img.view(b*h, w)\n",
    "        # img = torch.transpose(img, 1, 0)\n",
    "        # img = img.contiguous().view(w, b, h)\n",
    "        img, label = img.to(device), label.to(device)\n",
    "        out = model(img)\n",
    "        loss = criterion(out, label)\n",
    "        eval_loss += loss * label.size(0)\n",
    "        _, pred = torch.max(out, 1)\n",
    "        num_correct = (pred == label).sum().float()\n",
    "        eval_acc += num_correct\n",
    "    print(f'Test Loss: {eval_loss/(len(test_dataset)):.6f}, Acc: {eval_acc/(len(test_dataset)):.6f}')"
   ]
  },
  {
   "cell_type": "markdown",
   "metadata": {},
   "source": [
    "保存模型"
   ]
  },
  {
   "cell_type": "code",
   "execution_count": 9,
   "metadata": {},
   "outputs": [],
   "source": [
    "torch.save(model.state_dict(), 'save/05-recurrent neural network.pytorch')"
   ]
  }
 ],
 "metadata": {
  "kernelspec": {
   "display_name": "Python 3",
   "language": "python",
   "name": "python3"
  },
  "language_info": {
   "codemirror_mode": {
    "name": "ipython",
    "version": 3
   },
   "file_extension": ".py",
   "mimetype": "text/x-python",
   "name": "python",
   "nbconvert_exporter": "python",
   "pygments_lexer": "ipython3",
   "version": "3.6.5"
  }
 },
 "nbformat": 4,
 "nbformat_minor": 2
}
