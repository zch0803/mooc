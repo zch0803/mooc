{
 "cells": [
  {
   "cell_type": "markdown",
   "metadata": {},
   "source": [
    "## Utility for reading corpus data"
   ]
  },
  {
   "cell_type": "code",
   "execution_count": 1,
   "metadata": {},
   "outputs": [],
   "source": [
    "import os\n",
    "import torch"
   ]
  },
  {
   "cell_type": "code",
   "execution_count": 2,
   "metadata": {},
   "outputs": [],
   "source": [
    "class Dictionary(object):\n",
    "    def __init__(self):\n",
    "        self.word_to_idx = {}\n",
    "        self.idx_to_word = {}\n",
    "        \n",
    "    def add_word(self, word_list):\n",
    "        for word in word_list:\n",
    "            if word not in self.word_to_idx:\n",
    "                self.word_to_idx[word] = len(self.word_to_idx)\n",
    "                self.idx_to_word[len(self.word_to_idx)-1] = word\n",
    "    \n",
    "    def __len__(self):\n",
    "        return len(self.word_to_idx)"
   ]
  },
  {
   "cell_type": "code",
   "execution_count": 5,
   "metadata": {},
   "outputs": [],
   "source": [
    "class Corpus(object):\n",
    "    def __init__(self, path='data'):\n",
    "        self.dic = Dictionary()\n",
    "        self.train = os.path.join(path, 'train.txt')\n",
    "        self.valid = os.path.join(path, 'valid.txt')\n",
    "        self.test = os.path.join(path, 'test.txt')\n",
    "        self.path = path\n",
    "        \n",
    "    def get_data(self, file, batch_size=20):\n",
    "        file = os.path.join(self.path, file)\n",
    "        # get the word dictionary\n",
    "        with open(file, 'r') as f:\n",
    "            num_word = 0\n",
    "            for line in f:\n",
    "                word_list = line.split() + ['<eos>']\n",
    "                num_word += len(word_list)\n",
    "                self.dic.add_word(word_list)\n",
    "        \n",
    "        token = torch.LongTensor(num_word)\n",
    "        # get the whole sentence corpus\n",
    "        with open(file, 'r') as f:\n",
    "            index = 0\n",
    "            for line in f:\n",
    "                word_list = line.split() + ['<eos>']\n",
    "                for word in word_list:\n",
    "                    token[index] = self.dic.word_to_idx[word]\n",
    "                    index += 1\n",
    "        num_batch = index // batch_size\n",
    "        token = token[:num_batch*batch_size]\n",
    "        token = token.view(batch_size, -1)\n",
    "        return token"
   ]
  }
 ],
 "metadata": {
  "kernelspec": {
   "display_name": "Python 3",
   "language": "python",
   "name": "python3"
  },
  "language_info": {
   "codemirror_mode": {
    "name": "ipython",
    "version": 3
   },
   "file_extension": ".py",
   "mimetype": "text/x-python",
   "name": "python",
   "nbconvert_exporter": "python",
   "pygments_lexer": "ipython3",
   "version": "3.6.3"
  }
 },
 "nbformat": 4,
 "nbformat_minor": 2
}
