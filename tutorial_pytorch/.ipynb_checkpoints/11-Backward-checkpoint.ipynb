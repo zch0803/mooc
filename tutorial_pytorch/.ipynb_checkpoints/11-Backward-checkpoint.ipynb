{
 "cells": [
  {
   "cell_type": "code",
   "execution_count": 1,
   "metadata": {},
   "outputs": [],
   "source": [
    "import torch"
   ]
  },
  {
   "cell_type": "markdown",
   "metadata": {},
   "source": [
    "### Simple gradient"
   ]
  },
  {
   "cell_type": "code",
   "execution_count": 2,
   "metadata": {},
   "outputs": [],
   "source": [
    "a = torch.tensor([2, 3], dtype=torch.float, requires_grad=True)\n",
    "b = a + 3\n",
    "c = b * b * 3\n",
    "out = c.mean()\n",
    "out.backward()"
   ]
  },
  {
   "cell_type": "code",
   "execution_count": 3,
   "metadata": {},
   "outputs": [
    {
     "name": "stdout",
     "output_type": "stream",
     "text": [
      "**********\n",
      "=====simple gradient======\n",
      "input\n",
      "tensor([ 2.,  3.])\n",
      "compute result is\n",
      "tensor(91.5000)\n",
      "input gradients are\n",
      "tensor([ 15.,  18.])\n"
     ]
    }
   ],
   "source": [
    "print('*' * 10)\n",
    "print('=====simple gradient======')\n",
    "print('input')\n",
    "print(a)\n",
    "print('compute result is')\n",
    "print(out)\n",
    "print('input gradients are')\n",
    "print(a.grad)"
   ]
  },
  {
   "cell_type": "markdown",
   "metadata": {},
   "source": [
    "### Backward on non-scalar output"
   ]
  },
  {
   "cell_type": "code",
   "execution_count": 4,
   "metadata": {},
   "outputs": [
    {
     "name": "stdout",
     "output_type": "stream",
     "text": [
      "**********\n",
      "=====non scalar output======\n",
      "input\n",
      "tensor([[ 3.,  4.]])\n",
      "input gradients are\n",
      "tensor([[  6.,  48.]])\n"
     ]
    }
   ],
   "source": [
    "m = torch.tensor([[3, 4]], dtype=torch.float, requires_grad=True)\n",
    "n = torch.zeros(1, 2)\n",
    "n[0, 0] = m[0, 0] ** 2\n",
    "n[0, 1] = m[0, 1] ** 3\n",
    "n.backward(torch.FloatTensor([[1, 1]]))\n",
    "print('*' * 10)\n",
    "print('=====non scalar output======')\n",
    "print('input')\n",
    "print(m)\n",
    "print('input gradients are')\n",
    "print(m.grad)"
   ]
  },
  {
   "cell_type": "code",
   "execution_count": 6,
   "metadata": {},
   "outputs": [
    {
     "name": "stdout",
     "output_type": "stream",
     "text": [
      "tensor([[ 6.,  9.]])\n"
     ]
    }
   ],
   "source": [
    "m = torch.tensor([[2, 3]], dtype=torch.float, requires_grad=True)\n",
    "j = torch.zeros(2, 2)\n",
    "k = torch.zeros(1, 2)\n",
    "k[0, 0] = m[0, 0] ** 2 + 3 * m[0, 1]\n",
    "k[0, 1] = m[0, 1] ** 2 + 2 * m[0, 0]\n",
    "k.backward(torch.FloatTensor([[1, 1]]))\n",
    "print(m.grad)"
   ]
  },
  {
   "cell_type": "markdown",
   "metadata": {},
   "source": [
    "### Jacobian"
   ]
  },
  {
   "cell_type": "code",
   "execution_count": 7,
   "metadata": {},
   "outputs": [
    {
     "name": "stdout",
     "output_type": "stream",
     "text": [
      "Jacobian matrix is\n",
      "tensor([[ 4.,  3.],\n",
      "        [ 3.,  6.]])\n"
     ]
    }
   ],
   "source": [
    "j = torch.zeros(2, 2)\n",
    "k = torch.zeros(1, 2)\n",
    "m.grad.zero_()\n",
    "k[0, 0] = m[0, 0] ** 2 + 3 * m[0, 1]\n",
    "k[0, 1] = m[0, 1] ** 2 + 2 * m[0, 0]\n",
    "k.backward(torch.FloatTensor([[1, 0]]), retain_graph=True)\n",
    "j[:, 0] = m.grad\n",
    "m.grad.zero_()\n",
    "k.backward(torch.FloatTensor([[0, 1]]))\n",
    "j[:, 1] = m.grad\n",
    "print('Jacobian matrix is')\n",
    "print(j)"
   ]
  },
  {
   "cell_type": "markdown",
   "metadata": {},
   "source": [
    "### Compute jacobian matrix"
   ]
  },
  {
   "cell_type": "code",
   "execution_count": null,
   "metadata": {},
   "outputs": [],
   "source": [
    "x = t.FloatTensor([2, 1]).view(1, 2)\n",
    "x = v(x, requires_grad=True)\n",
    "y = v(t.FloatTensor([[1, 2], [3, 4]]))"
   ]
  },
  {
   "cell_type": "code",
   "execution_count": null,
   "metadata": {},
   "outputs": [],
   "source": [
    "z = t.mm(x, y)\n",
    "jacobian = t.zeros((2, 2))\n",
    "z.backward(t.FloatTensor([[1, 0]]), retain_graph=True) # dz1/dx1, dz2/dx1\n",
    "jacobian[:, 0] = x.grad.data\n",
    "x.grad.data.zero_()\n",
    "z.backward(t.FloatTensor([[0, 1]])) # dz1/dx2, dz2/dx2\n",
    "jacobian[:, 1] = x.grad.data\n",
    "print('=========Jacobian=========')\n",
    "print('x')\n",
    "print(x.data)\n",
    "print('y')\n",
    "print(y.data)\n",
    "print('compute result')\n",
    "print(z.data)\n",
    "print('jacobian matrix is')\n",
    "print(jacobian)"
   ]
  }
 ],
 "metadata": {
  "kernelspec": {
   "display_name": "Python 3",
   "language": "python",
   "name": "python3"
  },
  "language_info": {
   "codemirror_mode": {
    "name": "ipython",
    "version": 3
   },
   "file_extension": ".py",
   "mimetype": "text/x-python",
   "name": "python",
   "nbconvert_exporter": "python",
   "pygments_lexer": "ipython3",
   "version": "3.6.4"
  }
 },
 "nbformat": 4,
 "nbformat_minor": 2
}
