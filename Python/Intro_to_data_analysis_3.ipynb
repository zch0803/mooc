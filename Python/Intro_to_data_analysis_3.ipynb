{
 "cells": [
  {
   "cell_type": "markdown",
   "metadata": {},
   "source": [
    "## Excel\n",
    "### Start from count worksheet"
   ]
  },
  {
   "cell_type": "code",
   "execution_count": null,
   "metadata": {},
   "outputs": [],
   "source": [
    "import sys\n",
    "from xlrd import open_workbook\n",
    "input_file = sys.argv[1]\n",
    "workbook = open_workbook(input_file)\n",
    "print('Number of worksheets:', workbook.nsheets)\n",
    "for worksheet in workbook.sheets():\n",
    "    print(\"WorkSheet Name:\", worksheet.name, \"\\tRows:\", worksheet.nrows, \"\\tColumns:\", worksheet.ncols)"
   ]
  },
  {
   "cell_type": "markdown",
   "metadata": {},
   "source": [
    "### Read and Write a Excel"
   ]
  },
  {
   "cell_type": "code",
   "execution_count": null,
   "metadata": {},
   "outputs": [],
   "source": [
    "#python and process date column\n",
    "from xlwt import Workbook\n",
    "from xlrd import xldate_as_tuple\n",
    "input_file = sys.argv[1]\n",
    "output_file = sys.argv[2]\n",
    "output_workbook = Workbook()\n",
    "output_worksheet = output_workbook.add_sheet('jan_2013_output')\n",
    "with open_workbook(input_file) as workbook:\n",
    "    worksheet = workbook.sheet_by_name('january_2013')\n",
    "    for row_index in range(worksheet.nrows):\n",
    "        for column_index in range(worksheet.ncols):\n",
    "            if worksheet.cell_type(row_index, column_index) == 3: #3 represent date type\n",
    "                date_cell = xldate_as_tuple(worksheet.cell_value(row_index, column_index), workbook.datemode)\n",
    "                date_cell = date(*date_cell[0:3]).strftiem('%m/%d/%Y')\n",
    "                output_worksheet.write(row_index, column_index, date_cell)\n",
    "            else:\n",
    "                non_date_cell = worksheet.cell_value(row_index, column_index)\n",
    "                output_worksheet.write(row_index, column_index, non_date_cell)\n",
    "output_workbook.save(output_file)"
   ]
  },
  {
   "cell_type": "code",
   "execution_count": null,
   "metadata": {},
   "outputs": [],
   "source": [
    "# pandas\n",
    "import pandas as pd\n",
    "input_file = sys.argv[1]\n",
    "output_file = sys.argv[2]\n",
    "data_frame = pd.read_excel(input_file, sheetname='january_2013')\n",
    "writer = pd.ExcelWriter(output_file)\n",
    "data_frame.to_excel(writer, sheet_name='jan_13_output', index=False)\n",
    "writer.save()"
   ]
  },
  {
   "cell_type": "markdown",
   "metadata": {},
   "source": [
    "### Filter specific row"
   ]
  },
  {
   "cell_type": "code",
   "execution_count": null,
   "metadata": {},
   "outputs": [],
   "source": [
    "\n",
    "import sys\n",
    "from datetime import date\n",
    "from xlrd import open_workbook, xldate_as_tuple\n",
    "from xlwt import Workbook\n",
    "input_file = sys.argv[1]\n",
    "output_file = sys.argv[2]\n",
    "output_workbook = Workbook()\n",
    "output_worksheet = output_workbook.add_sheet('jan_2013_output')\n",
    "with open_workbook(input_file) as workbook:\n",
    "    worksheet = workbook.sheet_by_name('january_2013')\n",
    "    data = []\n",
    "    header = worksheet.row_values(0)\n",
    "    data.append(header)\n",
    "    for row_index in range(1,worksheet.nrows):\n",
    "        row_list = []\n",
    "        sale = worksheet.cell_value(row_index, sale_amount_column_index)\n",
    "        sale_amount = float(str(sale).strip('$').replace(',',''))\n",
    "        if sale_amount > 1400.0:\n",
    "            for column_index in range(worksheet.ncols):\n",
    "                cell_value = worksheet.cell_value(row_index, column_index)\n",
    "                cell_type = worksheet.cell_type(row_index, column_index)\n",
    "                if cell_type == 3:\n",
    "                    date_cell = xldate_as_tuple(cell_value,workbook.datemode)\n",
    "                    date_cell = date(*date_cell[0:3]).strftime('%m/%d/%Y')\n",
    "                    row_list.append(date_cell)\n",
    "                else:\n",
    "                    row_list.append(cell_value)\n",
    "        if row_list:\n",
    "            data.append(row_list)\n",
    "    for list_index, output_list in enumerate(data):\n",
    "        for element_index, element in enumerate(output_list):\n",
    "            output_worksheet.write(list_index, element_index, element)\n",
    "output_workbook.save(output_file)"
   ]
  },
  {
   "cell_type": "code",
   "execution_count": null,
   "metadata": {},
   "outputs": [],
   "source": [
    "# pandas\n",
    "import pandas as pd\n",
    "input_file = sys.argv[1]\n",
    "output_file = sys.argv[2]\n",
    "data_frame = pd.read_excel(input_file, sheetname='january_2013')\n",
    "data_frame = data_frame['Sale Amount'].str.replace(r'\\$','')\n",
    "data_frame = data_frame['Sale Amount'].str.replace(r',','')\n",
    "data_frame = data_frame['Sale Amount'].astype(float)\n",
    "data_frame_value_meets_condition = data_frame[data_frame['Sale Amount'] > 1400.0]\n",
    "writer = pd.ExcelWriter(output_file)\n",
    "data_frame_value_meets_condition.to_excel(writer, sheet_name='jan_13_output', index=False)\n",
    "writer.save()"
   ]
  },
  {
   "cell_type": "markdown",
   "metadata": {},
   "source": [
    "### Filter specific column"
   ]
  },
  {
   "cell_type": "code",
   "execution_count": null,
   "metadata": {},
   "outputs": [],
   "source": [
    "import sys\n",
    "from datetime import date\n",
    "from xlrd import open_workbook, xldate_as_tuple\n",
    "from xlwt import Workbook\n",
    "input_file = sys.argv[1]\n",
    "output_file = sys.argv[2]\n",
    "output_workbook = Workbook()\n",
    "output_worksheet = output_workbook.add_sheet('jan_2013_output')\n",
    "my_columns = [1,4]\n",
    "with open_workbook(input_file) as workbook:\n",
    "    worksheet = workbook.sheet_by_name('january_2013')\n",
    "    data = []\n",
    "    header = worksheet.row_values(0)\n",
    "    data.append(header)\n",
    "    for row_index in range(1,worksheet.nrows):\n",
    "        row_list = []\n",
    "        for column_index in my_columns:\n",
    "            cell_value = worksheet.cell_value(row_index, column_index)\n",
    "            cell_type = worksheet.cell_type(row_index, column_index)\n",
    "            if cell_type == 3:\n",
    "                date_cell = xldate_as_tuple(cell_value,workbook.datemode)\n",
    "                date_cell = date(*date_cell[0:3]).strftime('%m/%d/%Y')\n",
    "                row_list.append(date_cell)\n",
    "            else:\n",
    "                row_list.append(cell_value)\n",
    "        if row_list:\n",
    "            data.append(row_list)\n",
    "    for list_index, output_list in enumerate(data):\n",
    "        for element_index, element in enumerate(output_list):\n",
    "            output_worksheet.write(list_index, element_index, element)\n",
    "output_workbook.save(output_file)"
   ]
  },
  {
   "cell_type": "code",
   "execution_count": null,
   "metadata": {},
   "outputs": [],
   "source": [
    "# pandas\n",
    "import pandas as pd\n",
    "input_file = sys.argv[1]\n",
    "output_file = sys.argv[2]\n",
    "data_frame = pd.read_excel(input_file, sheetname='january_2013')\n",
    "data_frame_column_by_index = data_frame.iloc[:,[1,4]]\n",
    "writer = pd.ExcelWriter(output_file)\n",
    "data_frame_column_by_index.to_excel(writer, sheet_name='jan_13_output', index=False)\n",
    "writer.save()"
   ]
  },
  {
   "cell_type": "markdown",
   "metadata": {},
   "source": [
    "### Traverse all worksheets"
   ]
  },
  {
   "cell_type": "code",
   "execution_count": null,
   "metadata": {},
   "outputs": [],
   "source": [
    "# python\n",
    "import sys\n",
    "from datetime import date\n",
    "from xlrd import open_workbook, xldate_as_tuple\n",
    "from xlwt import Workbook\n",
    "input_file = sys.argv[1]\n",
    "output_file = sys.argv[2]\n",
    "output_workbook = Workbook()\n",
    "output_worksheet = output_workbook.add_sheet('filtered_rows_all_worksheets')\n",
    "sales_column_index = 3\n",
    "threshold = 2000.0\n",
    "first_worksheet = True\n",
    "\n",
    "with open_workbook(input_file) as workbook:\n",
    "    data = []\n",
    "    for worksheet in workbook.sheets():\n",
    "        if first_worksheet:\n",
    "            header = worksheet.row_values(0)\n",
    "            data.append(header)\n",
    "            first_worksheet = False\n",
    "    \n",
    "        for row_index in range(1,worksheet.nrows):\n",
    "            row_list = []\n",
    "            sale_amount = worksheet.cell_value(row_index, sales_column_index)\n",
    "            sale_amount = sale_amount.replace(r\"$\",'')\n",
    "            sale_amount = sale_amount.replace(r\",\",'')\n",
    "            sale_amount = float(sale_amount)\n",
    "            if sale_amount > threshold:\n",
    "                for column_index in range(worksheet.ncols):\n",
    "                    cell_value = worksheet.cell_value(row_index, column_index)\n",
    "                    cell_type = worksheet.cell_type(row_index, column_index)\n",
    "                    if cell_type == 3:\n",
    "                        date_cell = xldate_as_tuple(cell_value,workbook.datemode)\n",
    "                        date_cell = date(*date_cell[0:3]).strftime('%m/%d/%Y')\n",
    "                        row_list.append(date_cell)\n",
    "                    else:\n",
    "                        row_list.append(cell_value)\n",
    "                if row_list:\n",
    "                    data.append(row_list)\n",
    "    for list_index, output_list in enumerate(data):\n",
    "        for element_index, element in enumerate(output_list):\n",
    "            output_worksheet.write(list_index, element_index, element)\n",
    "output_workbook.save(output_file)"
   ]
  },
  {
   "cell_type": "code",
   "execution_count": null,
   "metadata": {},
   "outputs": [],
   "source": [
    "# pandas\n",
    "import pandas as pd\n",
    "import sys\n",
    "input_file = sys.argv[1]\n",
    "output_file = sys.argv[2]\n",
    "data_frame = pd.read_excel(input_file, sheet_name=None, index_col=None)\n",
    "row_output = []\n",
    "for worksheet_name, data in data_frame.items():\n",
    "    data['Sale Amount'] = data['Sale Amount'].str.replace(r'\\$','')\n",
    "    data['Sale Amount'] = data['Sale Amount'].str.replace(r',','')\n",
    "    data['Sale Amount'] = data['Sale Amount'].astype(float)\n",
    "    row_output.append(data[data['Sale Amount'] > 2000.0])\n",
    "filtered_rows = pd.concat(row_output, axis=0, ignore_index=True)\n",
    "writer = pd.ExcelWriter(output_file)\n",
    "filtered_rows.to_excel(writer, sheet_name='sale_amount_gt2000', index=False)\n",
    "writer.save()"
   ]
  },
  {
   "cell_type": "markdown",
   "metadata": {},
   "source": [
    "### 在Excel工作簿中读取一组工作表\n",
    "有些情况下，只需要处理工作簿中的部分工作表，这时可以使用sheet_by_index或sheet_by_name"
   ]
  },
  {
   "cell_type": "code",
   "execution_count": null,
   "metadata": {},
   "outputs": [],
   "source": [
    "#python\n",
    "my_sheets = [0,1]\n",
    "for sheet_index in range(workbook.nsheets):\n",
    "    if sheet_index in my_sheets:\n",
    "        worksheet = workbook.sheet_by_index(sheet_index)\n",
    "#pandas\n",
    "data_frame = pd.read_excel(input_file, sheetname=my_sheets, index_col=None)"
   ]
  },
  {
   "cell_type": "markdown",
   "metadata": {},
   "source": [
    "### 为每个工作簿和工作表计算总数和均值"
   ]
  },
  {
   "cell_type": "code",
   "execution_count": null,
   "metadata": {},
   "outputs": [],
   "source": [
    "#python \n",
    "import glob\n",
    "import os\n",
    "import sys\n",
    "from datetime import date\n",
    "from xlrd import open_workbook, xldate_as_tuple\n",
    "from xlwt import Workbook\n",
    "input_folder = sys.argv[1]\n",
    "output_file = sys.argv[2]\n",
    "output_workbook = Workbook()\n",
    "output_worksheet = output_workbook.add_sheet('sums_and_averages')\n",
    "all_data = []\n",
    "sales_column_index = 3\n",
    "header = ['workbook', 'worksheet', 'worksheet_total', 'worksheet_average', 'workbook_total', 'workbook_average']\n",
    "all_data.append(header)\n",
    "for input_file in glob.glob(os.path.join(input_folder, '*.xls*')):\n",
    "    with open_workbook(input_file) as workbook:\n",
    "        list_of_totals = []\n",
    "        list_of_numbers = []\n",
    "        workbook_output = []\n",
    "        for worksheet in workbook.sheets():\n",
    "            total_sales = 0\n",
    "            number_of_sales = 0\n",
    "            worksheet_list = []\n",
    "            worksheet_list.append(os.path.basename(input_file))\n",
    "            worksheet_list.append(worksheet.name)\n",
    "            for row_index in range(1, worksheet.nrows):\n",
    "                try:\n",
    "                    total_sales += float(str(worksheet.cell_value(row_index,sales_column_index)).strip('$').replace(',',''))\n",
    "                    number_of_sales += 1\n",
    "                except:\n",
    "                    total_sales += 0\n",
    "                    number_of_sales += 0\n",
    "            average_sales = '%.2f' % (total_sales / number_of_sales)\n",
    "            worksheet_list.append(total_sales)\n",
    "            worksheet_list.append(float(average_sales))\n",
    "            list_of_totals.append(total_sales)\n",
    "            list_of_numbers.append(float(number_of_sales))\n",
    "            workbook_output.append(worksheet_list)\n",
    "        workbook_total = sum(list_of_totals)\n",
    "        workbook_average = sum(list_of_totals) / sum(list_of_numbers)\n",
    "        for list_element in workbook_output:\n",
    "            list_element.append(workbook_total)\n",
    "            list_element.append(workbook_average)\n",
    "        all_data.append(workbook_output)\n",
    "        \n",
    "for list_index, output_list in enumerate(all_data):\n",
    "    for element_index, element in enumerate(output_list):\n",
    "        output_worksheet.write(list_index, element_index, element)\n",
    "output_worksheet.save(outputfile)"
   ]
  },
  {
   "cell_type": "code",
   "execution_count": null,
   "metadata": {},
   "outputs": [],
   "source": [
    "# pandas\n",
    "import pandas as pd\n",
    "import glob\n",
    "import os\n",
    "import sys\n",
    "input_path = sys.argv[1]\n",
    "output_file = sys.argv[2]\n",
    "all_workbooks = glob.glob(os.path.join(input_path,'*.xls*'))\n",
    "data_frames = []\n",
    "for workbook in all_workbooks:\n",
    "    all_worksheets = pd.read_excel(workbook, sheetname=None, index_col=None)\n",
    "    workbook_total_sales = []\n",
    "    workbook_number_of_sales = []\n",
    "    worksheet_data_frames = []\n",
    "    worksheets_data_frame = None\n",
    "    workbook_data_frame = None\n",
    "    for worksheet_name, data in all_worksheets.items():\n",
    "        total_sales = pd.DataFrame([float(str(value).strip('$').replace(',','')) for value in data.loc[:,'Sale Amount']]).sum()\n",
    "        number_of_sales = len(data.loc[:,'Sale Amount'])\n",
    "        average_sales = pd.DataFrame(total_sales/number_of_sales)\n",
    "        workbook_total_sales.append(total_sales)\n",
    "        workbook_number_of_sales.append(number_of_sales)\n",
    "        data = {'workbook':os.path.basename(workbook),\n",
    "               'worksheet': worksheet.name,\n",
    "               'worksheet_total': total_sales,\n",
    "               'worksheet_average': average_sales}\n",
    "        worksheet_data_frames.append(pd.DataFrame(data, columns=['workbook', 'worksheet', 'worksheet_total', 'worksheet_average']))\n",
    "    worksheets_data_frame = pd.concat(worksheet_data_frames, axis=0, ignore_index=True)\n",
    "    workbook_total = pd.DataFrame(workbook_total_sales).sum()\n",
    "    workbook_total_number_of_sales = pd.DataFrame(workbook_number_of_sales).sum()\n",
    "    workbook_average = pd.DataFrame(workbook_total/workbook_number_of_sales)\n",
    "    workbook_stats = {'workbook':os.path.basename(workbook), 'workbook_total':workbook_total, 'workbook_average':workbook_average}\n",
    "    workbook_stats = pd.DataFrame(workbook_stats, columns=['workbook', 'workbook_total', 'workbook_average'])\n",
    "    workbook_data_frame = pd.merge(worksheets_data_frame, workbook_stats, on='workbook',how='left')\n",
    "    data_frames.append(workbook_data_frame)\n",
    "all_data_concatenated = pd.concat(data_frames, axis=0, ignore_index=True)\n",
    "writer = pd.ExcelWriter(output_file)\n",
    "all_data_concatenated.to_excel(writer, sheet_name='sums_and_averages', index=False)\n",
    "writer.save()"
   ]
  }
 ],
 "metadata": {
  "kernelspec": {
   "display_name": "Python 3",
   "language": "python",
   "name": "python3"
  },
  "language_info": {
   "codemirror_mode": {
    "name": "ipython",
    "version": 3
   },
   "file_extension": ".py",
   "mimetype": "text/x-python",
   "name": "python",
   "nbconvert_exporter": "python",
   "pygments_lexer": "ipython3",
   "version": "3.6.5"
  }
 },
 "nbformat": 4,
 "nbformat_minor": 2
}
