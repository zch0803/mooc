{
 "cells": [
  {
   "cell_type": "markdown",
   "metadata": {},
   "source": [
    "### Usage of format\n",
    "`:` represent data type and `.` represent the num of float"
   ]
  },
  {
   "cell_type": "code",
   "execution_count": 49,
   "metadata": {},
   "outputs": [
    {
     "name": "stdout",
     "output_type": "stream",
     "text": [
      "Output: one plus two equals 3\n"
     ]
    }
   ],
   "source": [
    "x = 1\n",
    "y = 2\n",
    "z = x + y\n",
    "print(\"Output: one plus two equals {0:d}\".format(z))"
   ]
  },
  {
   "cell_type": "code",
   "execution_count": 5,
   "metadata": {},
   "outputs": [
    {
     "name": "stdout",
     "output_type": "stream",
     "text": [
      "Output: [1, 2, 3, 4], ['first', 'second', 'third', 'fourth'], [1, 2, 3, 4, 'first', 'second', 'third', 'fourth']\n"
     ]
    }
   ],
   "source": [
    "a = [1, 2, 3, 4]\n",
    "b = [\"first\", \"second\", \"third\", \"fourth\"]\n",
    "c = a + b\n",
    "print(\"Output: {0}, {1}, {2}\".format(a, b, c))"
   ]
  },
  {
   "cell_type": "code",
   "execution_count": 3,
   "metadata": {},
   "outputs": [
    {
     "name": "stdout",
     "output_type": "stream",
     "text": [
      "Output: 3.074\n"
     ]
    }
   ],
   "source": [
    "print(\"Output: {0:.3f}\".format(8.3/2.7))"
   ]
  },
  {
   "cell_type": "code",
   "execution_count": 6,
   "metadata": {},
   "outputs": [
    {
     "name": "stdout",
     "output_type": "stream",
     "text": [
      "Output: 20.0855, 1.386, 9.00\n"
     ]
    }
   ],
   "source": [
    "from math import exp, log, sqrt\n",
    "print(\"Output: {0:.4f}, {1:.3f}, {2:.2f}\".format(exp(3), log(4), sqrt(81)))"
   ]
  },
  {
   "cell_type": "markdown",
   "metadata": {},
   "source": [
    "### String\n",
    "multiple row print should use '''content''' or \"\"\"content\"\"\""
   ]
  },
  {
   "cell_type": "code",
   "execution_count": 7,
   "metadata": {},
   "outputs": [
    {
     "name": "stdout",
     "output_type": "stream",
     "text": [
      "Output: hello\n",
      "world\n"
     ]
    }
   ],
   "source": [
    "print(\"Output: {0:s}\".format('''hello\n",
    "world'''))"
   ]
  },
  {
   "cell_type": "code",
   "execution_count": 8,
   "metadata": {},
   "outputs": [
    {
     "name": "stdout",
     "output_type": "stream",
     "text": [
      "Output: This is a short string\n",
      "Output: 22\n"
     ]
    }
   ],
   "source": [
    "string1 = \"This is a \"\n",
    "string2 = \"short string\"\n",
    "sentence = string1 + string2\n",
    "print(\"Output: {0:s}\".format(sentence))\n",
    "m = len(sentence)\n",
    "print(\"Output: {0:d}\".format(m))"
   ]
  },
  {
   "cell_type": "code",
   "execution_count": 12,
   "metadata": {},
   "outputs": [
    {
     "name": "stdout",
     "output_type": "stream",
     "text": [
      "Output: She is  very very very very  beautiful.\n"
     ]
    }
   ],
   "source": [
    "print(\"Output: {0:s} {1:s}{2:s}\".format(\"She is \", \"very \"*4, \" beautiful.\"))"
   ]
  },
  {
   "cell_type": "markdown",
   "metadata": {},
   "source": [
    "#### split\n",
    "there are two args. First is symbol of spliting, second is the frequence of spliting"
   ]
  },
  {
   "cell_type": "code",
   "execution_count": 13,
   "metadata": {},
   "outputs": [
    {
     "name": "stdout",
     "output_type": "stream",
     "text": [
      "Output: ['My', 'deliverable', 'is', 'due', 'in', 'May']\n",
      "Output: ['My', 'deliverable', 'is due in May']\n"
     ]
    }
   ],
   "source": [
    "string = \"My deliverable is due in May\"\n",
    "string_list1 = string.split()\n",
    "string_list2 = string.split(\" \", 2)\n",
    "print(\"Output: {0}\".format(string_list1))\n",
    "print(\"Output: {0}\".format(string_list2))"
   ]
  },
  {
   "cell_type": "markdown",
   "metadata": {},
   "source": [
    "#### join"
   ]
  },
  {
   "cell_type": "code",
   "execution_count": 14,
   "metadata": {},
   "outputs": [
    {
     "name": "stdout",
     "output_type": "stream",
     "text": [
      "Output:My,deliverable,is,due,in,May\n"
     ]
    }
   ],
   "source": [
    "print(\"Output:{0}\".format(','.join(string_list1)))"
   ]
  },
  {
   "cell_type": "markdown",
   "metadata": {},
   "source": [
    "#### strip\n",
    "**strip lstrip rstrip** "
   ]
  },
  {
   "cell_type": "code",
   "execution_count": 15,
   "metadata": {},
   "outputs": [
    {
     "name": "stdout",
     "output_type": "stream",
     "text": [
      "Output: strip of string: Remove unwanted charaters   from this string\n",
      "Output: lstrip of string: Remove unwanted charaters   from this string \t\t \n",
      "\n",
      "Output: rstrip of string:  Remove unwanted charaters   from this string\n"
     ]
    }
   ],
   "source": [
    "string1 = \" Remove unwanted charaters   from this string \\t\\t \\n\"\n",
    "print(\"Output: strip of string: {0}\".format(string1.strip()))\n",
    "print(\"Output: lstrip of string: {0}\".format(string1.lstrip()))\n",
    "print(\"Output: rstrip of string: {0}\".format(string1.rstrip()))"
   ]
  },
  {
   "cell_type": "code",
   "execution_count": 16,
   "metadata": {},
   "outputs": [
    {
     "name": "stdout",
     "output_type": "stream",
     "text": [
      "Output: Here are another strings that have unwanted characters.\n"
     ]
    }
   ],
   "source": [
    "string2 = \"$$Here are another strings that have unwanted characters.__--++\"\n",
    "string2_strip = string2.strip('$-_+')\n",
    "print(\"Output: {0:s}\".format(string2_strip))"
   ]
  },
  {
   "cell_type": "markdown",
   "metadata": {},
   "source": [
    "#### replace \n",
    "**Two args:** first is the string you are finding, second is the replace string"
   ]
  },
  {
   "cell_type": "code",
   "execution_count": 17,
   "metadata": {},
   "outputs": [
    {
     "name": "stdout",
     "output_type": "stream",
     "text": [
      "Output: Let's@replace@the@space@in@this@sentence@with@other@characters.\n"
     ]
    }
   ],
   "source": [
    "string = \"Let's replace the space in this sentence with other characters.\"\n",
    "string_replace = string.replace(\" \", \"@\")\n",
    "print(\"Output: {0:s}\".format(string_replace))"
   ]
  },
  {
   "cell_type": "markdown",
   "metadata": {},
   "source": [
    "#### lower upper capitalize"
   ]
  },
  {
   "cell_type": "code",
   "execution_count": 18,
   "metadata": {},
   "outputs": [
    {
     "name": "stdout",
     "output_type": "stream",
     "text": [
      "Output: here's what happens when you user these function\n",
      "Output: HERE'S WHAT HAPPENS WHEN YOU USER THESE FUNCTION\n",
      "Output: Here's what happens when you user these function\n"
     ]
    }
   ],
   "source": [
    "string = \"Here's What Happens WHEN you User these FUNCTION\"\n",
    "print(\"Output: {0:s}\".format(string.lower()))\n",
    "print(\"Output: {0:s}\".format(string.upper()))\n",
    "print(\"Output: {0:s}\".format(string.capitalize()))"
   ]
  },
  {
   "cell_type": "markdown",
   "metadata": {},
   "source": [
    "### Re\n",
    "re.compile re.search re.sub re.ignorecase re.I\n",
    "re.I ignore the case. re.compile define the Regular expression. re.search find the matching. re.sub means subsititute.\n",
    "> note: please use r when defien the regular expression\n",
    "\n",
    "`?P<name>` is a meat character of re"
   ]
  },
  {
   "cell_type": "code",
   "execution_count": 22,
   "metadata": {},
   "outputs": [
    {
     "name": "stdout",
     "output_type": "stream",
     "text": [
      "Output: 2\n"
     ]
    }
   ],
   "source": [
    "import re\n",
    "string = \"The quick brown fox jumps over the lazy dog\"\n",
    "string_list = string.split()\n",
    "pattern = re.compile(r\"The\", re.I)\n",
    "count = 0\n",
    "for word in string_list:\n",
    "    if pattern.search(word):\n",
    "        count += 1\n",
    "print(\"Output: {0:d}\".format(count))"
   ]
  },
  {
   "cell_type": "code",
   "execution_count": 24,
   "metadata": {},
   "outputs": [
    {
     "name": "stdout",
     "output_type": "stream",
     "text": [
      "The\n",
      "the\n"
     ]
    }
   ],
   "source": [
    "pattern = re.compile(r\"(?P<match_word>The)\", re.I)\n",
    "for word in string_list:\n",
    "    if pattern.search(word):\n",
    "        print(\"{:s}\".format(pattern.search(word).group(\"match_word\")))"
   ]
  },
  {
   "cell_type": "code",
   "execution_count": 25,
   "metadata": {},
   "outputs": [
    {
     "name": "stdout",
     "output_type": "stream",
     "text": [
      "Output: a quick brown fox jumps over a lazy dog\n"
     ]
    }
   ],
   "source": [
    "string_to_find = r\"The\"\n",
    "pattern = re.compile(string_to_find, re.I)\n",
    "print(\"Output: {:s}\".format(pattern.sub(\"a\", string)))"
   ]
  },
  {
   "cell_type": "markdown",
   "metadata": {},
   "source": [
    "### Date\n",
    "date time datetime time delta"
   ]
  },
  {
   "cell_type": "code",
   "execution_count": 26,
   "metadata": {},
   "outputs": [],
   "source": [
    "from datetime import date, time, datetime, timedelta"
   ]
  },
  {
   "cell_type": "code",
   "execution_count": 27,
   "metadata": {},
   "outputs": [
    {
     "name": "stdout",
     "output_type": "stream",
     "text": [
      "Output: today: 2018-05-23\n",
      "Output: today: 2018\n",
      "Output: today: 5\n",
      "Output: today: 23\n",
      "Output: today: 2018-05-23 10:25:24.846684\n"
     ]
    }
   ],
   "source": [
    "today = date.today()\n",
    "print(\"Output: today: {0!s}\".format(today))\n",
    "print(\"Output: today: {0!s}\".format(today.year))\n",
    "print(\"Output: today: {0!s}\".format(today.month))\n",
    "print(\"Output: today: {0!s}\".format(today.day))\n",
    "current_datetime = datetime.today()\n",
    "print(\"Output: today: {0!s}\".format(current_datetime))"
   ]
  },
  {
   "cell_type": "code",
   "execution_count": 28,
   "metadata": {},
   "outputs": [
    {
     "name": "stdout",
     "output_type": "stream",
     "text": [
      "Output: yesterday: 2018-05-22\n",
      "Output: -1 57600\n"
     ]
    }
   ],
   "source": [
    "one_day = timedelta(days=-1)\n",
    "yesterday = today + one_day\n",
    "print(\"Output: yesterday: {0!s}\".format(yesterday))\n",
    "eight_hours = timedelta(hours=-8)\n",
    "print(\"Output: {0!s} {1!s}\".format(eight_hours.days, eight_hours.seconds))"
   ]
  },
  {
   "cell_type": "code",
   "execution_count": 29,
   "metadata": {},
   "outputs": [
    {
     "name": "stdout",
     "output_type": "stream",
     "text": [
      "Output: 1 day, 0:00:00\n"
     ]
    }
   ],
   "source": [
    "date_diff = today - yesterday\n",
    "print(\"Output: {0!s}\".format(date_diff))"
   ]
  },
  {
   "cell_type": "code",
   "execution_count": 31,
   "metadata": {},
   "outputs": [
    {
     "name": "stdout",
     "output_type": "stream",
     "text": [
      "Output: 05/23/2018\n",
      "Output: May 23 2018\n",
      "Output: 2018-05-23\n",
      "Output: May 23 2018\n"
     ]
    }
   ],
   "source": [
    "print(\"Output: {:s}\".format(today.strftime('%m/%d/%Y')))\n",
    "print(\"Output: {:s}\".format(today.strftime('%b %d %Y')))\n",
    "print(\"Output: {:s}\".format(today.strftime('%Y-%m-%d')))\n",
    "print(\"Output: {:s}\".format(today.strftime('%B %d %Y')))"
   ]
  },
  {
   "cell_type": "code",
   "execution_count": 33,
   "metadata": {},
   "outputs": [
    {
     "name": "stdout",
     "output_type": "stream",
     "text": [
      "Output: 2018-05-23 00:00:00\n",
      "Output: 2018-05-23 00:00:00\n",
      "Output: 2018-05-23\n",
      "Output: 2018-05-23\n"
     ]
    }
   ],
   "source": [
    "date1 = today.strftime('%m/%d/%Y')\n",
    "date2 = today.strftime('%b %d %Y')\n",
    "date3 = today.strftime('%Y-%m-%d')\n",
    "date4 = today.strftime('%B %d %Y')\n",
    "print(\"Output: {!s}\".format(datetime.strptime(date1, '%m/%d/%Y')))\n",
    "print(\"Output: {!s}\".format(datetime.strptime(date2, '%b %d %Y')))\n",
    "print(\"Output: {!s}\".format(datetime.date(datetime.strptime(date3, '%Y-%m-%d'))))\n",
    "print(\"Output: {!s}\".format(datetime.date(datetime.strptime(date4, '%B %d %Y'))))"
   ]
  },
  {
   "cell_type": "markdown",
   "metadata": {},
   "source": [
    "### List"
   ]
  },
  {
   "cell_type": "code",
   "execution_count": 34,
   "metadata": {},
   "outputs": [
    {
     "name": "stdout",
     "output_type": "stream",
     "text": [
      "Output: [1, 2, 3]\n",
      "Output: a_list has 3 elements\n",
      "Ouput: the maximum value in a_list is 3\n",
      "Ouput: the minimum value in a_list is 1\n",
      "Ouput: 2 is in a_list 1 time.\n"
     ]
    }
   ],
   "source": [
    "# create a List\n",
    "a_list = [1, 2, 3]\n",
    "print(\"Output: {}\".format(a_list))\n",
    "print(\"Output: a_list has {} elements\".format(len(a_list)))\n",
    "print(\"Ouput: the maximum value in a_list is {}\".format(max(a_list)))\n",
    "print(\"Ouput: the minimum value in a_list is {}\".format(min(a_list)))\n",
    "print(\"Ouput: 2 is in a_list {} time.\".format(a_list.count(2)))"
   ]
  },
  {
   "cell_type": "code",
   "execution_count": 35,
   "metadata": {},
   "outputs": [
    {
     "name": "stdout",
     "output_type": "stream",
     "text": [
      "Output: 1\n",
      "Output: 2\n",
      "Output: 3\n",
      "Output: 3\n",
      "Output: 2\n",
      "Output: 1\n"
     ]
    }
   ],
   "source": [
    "# index of a List\n",
    "print(\"Output: {}\".format(a_list[0]))\n",
    "print(\"Output: {}\".format(a_list[1]))\n",
    "print(\"Output: {}\".format(a_list[2]))\n",
    "print(\"Output: {}\".format(a_list[-1]))\n",
    "print(\"Output: {}\".format(a_list[-2]))\n",
    "print(\"Output: {}\".format(a_list[-3]))"
   ]
  },
  {
   "cell_type": "code",
   "execution_count": 36,
   "metadata": {},
   "outputs": [
    {
     "name": "stdout",
     "output_type": "stream",
     "text": [
      "Output: [1, 2]\n",
      "Output: [1, 2]\n",
      "Output: [2, 3]\n"
     ]
    }
   ],
   "source": [
    "# splice of a List\n",
    "print(\"Output: {}\".format(a_list[0:2]))\n",
    "print(\"Output: {}\".format(a_list[:2]))\n",
    "print(\"Output: {}\".format(a_list[1:]))"
   ]
  },
  {
   "cell_type": "code",
   "execution_count": 37,
   "metadata": {},
   "outputs": [
    {
     "name": "stdout",
     "output_type": "stream",
     "text": [
      "Output: [1, 2, 3]\n"
     ]
    }
   ],
   "source": [
    "# copy of a list\n",
    "a_new_list = a_list[:]\n",
    "print(\"Output: {}\".format(a_new_list))"
   ]
  },
  {
   "cell_type": "code",
   "execution_count": 38,
   "metadata": {},
   "outputs": [
    {
     "name": "stdout",
     "output_type": "stream",
     "text": [
      "Output: [1, 2, 3, 1, 2, 3]\n"
     ]
    }
   ],
   "source": [
    "# concat of two list\n",
    "a_longer_list = a_list + a_new_list\n",
    "print(\"Output: {}\".format(a_longer_list))"
   ]
  },
  {
   "cell_type": "code",
   "execution_count": 39,
   "metadata": {},
   "outputs": [
    {
     "name": "stdout",
     "output_type": "stream",
     "text": [
      "True True\n"
     ]
    }
   ],
   "source": [
    "# in or not in\n",
    "a = 2 in a_list\n",
    "b = 4 not in a_list\n",
    "print(a, b)"
   ]
  },
  {
   "cell_type": "code",
   "execution_count": 40,
   "metadata": {},
   "outputs": [
    {
     "name": "stdout",
     "output_type": "stream",
     "text": [
      "Output: [1, 2, 3, 4, 5, 6]\n",
      "Output: [1, 2, 3, 5, 6]\n",
      "Output: [1, 2, 3]\n"
     ]
    }
   ],
   "source": [
    "# append remove pop\n",
    "a_list.append(4)\n",
    "a_list.append(5)\n",
    "a_list.append(6)\n",
    "print(\"Output: {}\".format(a_list))\n",
    "a_list.remove(4)\n",
    "print(\"Output: {}\".format(a_list))\n",
    "a_list.pop()\n",
    "a_list.pop()\n",
    "print(\"Output: {}\".format(a_list))"
   ]
  },
  {
   "cell_type": "code",
   "execution_count": 41,
   "metadata": {},
   "outputs": [
    {
     "name": "stdout",
     "output_type": "stream",
     "text": [
      "Output: [3, 2, 1]\n",
      "Output: [1, 2, 3]\n"
     ]
    }
   ],
   "source": [
    "# reverse in-place\n",
    "a_list.reverse()\n",
    "print(\"Output: {}\".format(a_list))\n",
    "a_list.reverse()\n",
    "print(\"Output: {}\".format(a_list))"
   ]
  },
  {
   "cell_type": "code",
   "execution_count": 42,
   "metadata": {},
   "outputs": [
    {
     "name": "stdout",
     "output_type": "stream",
     "text": [
      "Output: [0, 1, 3, 4, 5, 6, 7, 8, 9]\n"
     ]
    }
   ],
   "source": [
    "# sort\n",
    "unordered_list = [3, 5, 1, 7, 4, 6, 8, 9, 0]\n",
    "list_copy = unordered_list[:]\n",
    "list_copy.sort()\n",
    "print(\"Output: {}\".format(list_copy))"
   ]
  },
  {
   "cell_type": "code",
   "execution_count": 45,
   "metadata": {},
   "outputs": [
    {
     "name": "stdout",
     "output_type": "stream",
     "text": [
      "Output: [[4, 3, 2, 1], [2, 4, 1, 3], [1, 2, 3, 4]]\n"
     ]
    }
   ],
   "source": [
    "# sorted\n",
    "my_lists = [[1,2,3,4],[4,3,2,1],[2,4,1,3]]\n",
    "my_lists_sorted_by_index_3 = sorted(my_lists, key=lambda index_value:index_value[3])\n",
    "print(\"Output: {}\".format(my_lists_sorted_by_index_3))"
   ]
  },
  {
   "cell_type": "code",
   "execution_count": 46,
   "metadata": {},
   "outputs": [
    {
     "name": "stdout",
     "output_type": "stream",
     "text": [
      "Output: [[461, 1, 1, 290], [578, 1, 1, 290], [22, 6, 6, 444], [123, 2, 2, 444], [236, 5, 5, 678], [354, 4, 4, 678]]\n"
     ]
    }
   ],
   "source": [
    "from operator import itemgetter\n",
    "my_lists = [[123,2,2,444],[22,6,6,444],[354,4,4,678],[236,5,5,678],[578,1,1,290],[461,1,1,290]]\n",
    "my_lists_sorted_by_index_3_and_0 = sorted(my_lists, key=itemgetter(3,0))\n",
    "print(\"Output: {}\".format(my_lists_sorted_by_index_3_and_0))"
   ]
  },
  {
   "cell_type": "markdown",
   "metadata": {},
   "source": [
    "### Tuple"
   ]
  },
  {
   "cell_type": "code",
   "execution_count": 47,
   "metadata": {},
   "outputs": [
    {
     "name": "stdout",
     "output_type": "stream",
     "text": [
      "Output: ('x', 'y', 'z')\n",
      "Output: my_tuple has 3 elements\n",
      "Output: x y z\n",
      "Output: robin red\n"
     ]
    }
   ],
   "source": [
    "my_tuple = ('x', 'y', 'z')\n",
    "print(\"Output: {}\".format(my_tuple))\n",
    "print(\"Output: my_tuple has {} elements\".format(len(my_tuple)))\n",
    "\n",
    "x, y, z = my_tuple\n",
    "print(\"Output: {0} {1} {2}\".format(x, y, z))\n",
    "var1 = \"red\"\n",
    "var2 = \"robin\"\n",
    "var1, var2 = var2, var1\n",
    "print(\"Output: {} {}\".format(var1, var2))"
   ]
  },
  {
   "cell_type": "code",
   "execution_count": 48,
   "metadata": {},
   "outputs": [
    {
     "name": "stdout",
     "output_type": "stream",
     "text": [
      "Output: (1, 2, 3)\n",
      "Output: ['x', 'y', 'z']\n"
     ]
    }
   ],
   "source": [
    "my_list = [1,2,3]\n",
    "my_tuple = ['x', 'y', 'z']\n",
    "print(\"Output: {}\".format(tuple(my_list)))\n",
    "print(\"Output: {}\".format(list(my_tuple)))"
   ]
  },
  {
   "cell_type": "markdown",
   "metadata": {},
   "source": [
    "### Dict"
   ]
  },
  {
   "cell_type": "code",
   "execution_count": 50,
   "metadata": {},
   "outputs": [
    {
     "name": "stdout",
     "output_type": "stream",
     "text": [
      "Output: {'one': 1, 'two': 2, 'three': 3}\n",
      "Output: a_dict has 3 elements\n",
      "Output: {'x': 'Printer', 'y': 5, 'z': ['star', 'circle', 9]}\n",
      "Output: another_dict has 3 elements\n"
     ]
    }
   ],
   "source": [
    "# create a dict\n",
    "empty_dict = {}\n",
    "a_dict = {'one':1, 'two':2, 'three':3}\n",
    "print(\"Output: {}\".format(a_dict))\n",
    "print(\"Output: a_dict has {!s} elements\".format(len(a_dict)))\n",
    "another_dict = {'x':'Printer', 'y':5, 'z':['star', 'circle', 9]}\n",
    "print(\"Output: {}\".format(another_dict))\n",
    "print(\"Output: another_dict has {!s} elements\".format(len(another_dict)))"
   ]
  },
  {
   "cell_type": "code",
   "execution_count": 51,
   "metadata": {},
   "outputs": [
    {
     "name": "stdout",
     "output_type": "stream",
     "text": [
      "Output: 2\n",
      "Output: ['star', 'circle', 9]\n"
     ]
    }
   ],
   "source": [
    "# use a dict\n",
    "print(\"Output: {}\".format(a_dict['two']))\n",
    "print(\"Output: {}\".format(another_dict['z']))"
   ]
  },
  {
   "cell_type": "code",
   "execution_count": 52,
   "metadata": {},
   "outputs": [
    {
     "name": "stdout",
     "output_type": "stream",
     "text": [
      "Output: {'one': 1, 'two': 2, 'three': 3}\n"
     ]
    }
   ],
   "source": [
    "# copy a dict\n",
    "a_new_dict = a_dict.copy()\n",
    "print(\"Output: {}\".format(a_new_dict))"
   ]
  },
  {
   "cell_type": "code",
   "execution_count": 53,
   "metadata": {},
   "outputs": [
    {
     "name": "stdout",
     "output_type": "stream",
     "text": [
      "Output: dict_keys(['one', 'two', 'three'])\n",
      "Output: dict_items([('one', 1), ('two', 2), ('three', 3)])\n",
      "Output: dict_values([1, 2, 3])\n"
     ]
    }
   ],
   "source": [
    "# keys values items\n",
    "print(\"Output: {}\".format(a_dict.keys()))\n",
    "print(\"Output: {}\".format(a_dict.items()))\n",
    "print(\"Output: {}\".format(a_dict.values()))"
   ]
  },
  {
   "cell_type": "code",
   "execution_count": 55,
   "metadata": {},
   "outputs": [
    {
     "name": "stdout",
     "output_type": "stream",
     "text": [
      "Output: y is a key in another_dict: dict_keys(['x', 'y', 'z'])\n",
      "Output: c is not a key in another_dict: dict_keys(['x', 'y', 'z'])\n",
      "Output: 3\n",
      "Output: None\n",
      "Output: not in dict\n"
     ]
    }
   ],
   "source": [
    "# in not in get\n",
    "if 'y' in another_dict:\n",
    "    print(\"Output: y is a key in another_dict: {}\".format(another_dict.keys()))\n",
    "if 'c' not in another_dict:\n",
    "    print(\"Output: c is not a key in another_dict: {}\".format(another_dict.keys()))\n",
    "    \n",
    "print(\"Output: {!s}\".format(a_dict.get(\"three\")))\n",
    "print(\"Output: {!s}\".format(a_dict.get(\"four\")))\n",
    "print(\"Output: {!s}\".format(a_dict.get(\"four\", 'not in dict')))"
   ]
  },
  {
   "cell_type": "code",
   "execution_count": 57,
   "metadata": {},
   "outputs": [
    {
     "name": "stdout",
     "output_type": "stream",
     "text": [
      "Output: {'one': 1, 'two': 2, 'three': 3}\n",
      "Output: order by keys: [('one', 1), ('three', 3), ('two', 2)]\n",
      "Output: order by values: [('one', 1), ('two', 2), ('three', 3)]\n",
      "Output: order by values descending: [('two', 2), ('three', 3), ('one', 1)]\n",
      "Output: order by values ascending: [('one', 1), ('three', 3), ('two', 2)]\n"
     ]
    }
   ],
   "source": [
    "# sort\n",
    "print(\"Output: {}\".format(a_dict))\n",
    "dict_copy = a_dict.copy()\n",
    "ordered_dict1 = sorted(dict_copy.items(), key=lambda item:item[0])\n",
    "print(\"Output: order by keys: {}\".format(ordered_dict1))\n",
    "ordered_dict2 = sorted(dict_copy.items(), key=lambda item:item[1])\n",
    "print(\"Output: order by values: {}\".format(ordered_dict2))\n",
    "ordered_dict3 = sorted(dict_copy.items(), key=lambda item:item[0], reverse=True)\n",
    "print(\"Output: order by values descending: {}\".format(ordered_dict3))\n",
    "ordered_dict4 = sorted(dict_copy.items(), key=lambda item:item[0], reverse=False)\n",
    "print(\"Output: order by values ascending: {}\".format(ordered_dict4))"
   ]
  },
  {
   "cell_type": "markdown",
   "metadata": {},
   "source": [
    "### Generator"
   ]
  },
  {
   "cell_type": "code",
   "execution_count": 58,
   "metadata": {},
   "outputs": [
    {
     "name": "stdout",
     "output_type": "stream",
     "text": [
      "Output: list comprehensive: [[4, 5, 6], [7, 8, 9]]\n"
     ]
    }
   ],
   "source": [
    "#List\n",
    "my_data = [[1,2,3],[4,5,6],[7,8,9]]\n",
    "rows_to_keep = [row for row in my_data if row[2] > 5]\n",
    "print(\"Output: list comprehensive: {}\".format(rows_to_keep))"
   ]
  },
  {
   "cell_type": "code",
   "execution_count": 62,
   "metadata": {},
   "outputs": [
    {
     "name": "stdout",
     "output_type": "stream",
     "text": [
      "Output: set comprehensive: {(4, 5, 6), (7, 8, 9), (1, 2, 3)}\n",
      "Output: set function: {(4, 5, 6), (7, 8, 9), (1, 2, 3)}\n"
     ]
    }
   ],
   "source": [
    "#Set \n",
    "my_data = [(1,2,3),(4,5,6),(7,8,9),(7,8,9)]\n",
    "set_of_tuples1 = {x for x in my_data}\n",
    "print(\"Output: set comprehensive: {}\".format(set_of_tuples1))\n",
    "set_of_tuples2 = set(my_data)\n",
    "print(\"Output: set function: {}\".format(set_of_tuples2))"
   ]
  },
  {
   "cell_type": "code",
   "execution_count": 64,
   "metadata": {},
   "outputs": [
    {
     "name": "stdout",
     "output_type": "stream",
     "text": [
      "Output: dictionary comprehensive: {'customer3': 11}\n"
     ]
    }
   ],
   "source": [
    "#Dict\n",
    "my_dictionary = {'customer1': 7, 'customer2': 9, 'customer3': 11}\n",
    "my_results = {key: value for key, value in my_dictionary.items() if value > 10}\n",
    "print(\"Output: dictionary comprehensive: {}\".format(my_results))"
   ]
  },
  {
   "cell_type": "markdown",
   "metadata": {},
   "source": [
    "### Function and Exception"
   ]
  },
  {
   "cell_type": "code",
   "execution_count": 66,
   "metadata": {},
   "outputs": [
    {
     "name": "stdout",
     "output_type": "stream",
     "text": [
      "Output mean: 5.889\n"
     ]
    }
   ],
   "source": [
    "def getMean(numericValues):\n",
    "    return sum(numericValues)/len(numericValues) if len(numericValues) > 0 else float('nan')\n",
    "my_list = [2,3,4,4,6,7,8,9,10]\n",
    "print(\"Output mean: {:.3f}\".format(getMean(my_list)))"
   ]
  },
  {
   "cell_type": "code",
   "execution_count": 69,
   "metadata": {},
   "outputs": [
    {
     "name": "stdout",
     "output_type": "stream",
     "text": [
      "Output (Error): nan\n",
      "Output (Error): division by zero\n",
      "Output Finally: The finally block is executed every time\n"
     ]
    }
   ],
   "source": [
    "# try except\n",
    "def getMean(numericValues):\n",
    "    return sum(numericValues)/len(numericValues)\n",
    "my_list2 = []\n",
    "try:\n",
    "    result = getMean(my_list2)\n",
    "except ZeroDivisionError as detail:\n",
    "    print(\"Output (Error): {}\".format(float('nan')))\n",
    "    print(\"Output (Error): {}\".format(detail))\n",
    "else:\n",
    "    print(\"Output: {}\".format(result))\n",
    "finally:\n",
    "    print(\"Output Finally: The finally block is executed every time\")"
   ]
  },
  {
   "cell_type": "markdown",
   "metadata": {},
   "source": [
    "### glob"
   ]
  },
  {
   "cell_type": "code",
   "execution_count": null,
   "metadata": {},
   "outputs": [],
   "source": [
    "import os\n",
    "import sys\n",
    "import glob\n",
    "# inputPath = sys.argv[1]\n",
    "inputPath = './'\n",
    "for input_file in glob.glob(os.path.join(inputPath,'*.py')):\n",
    "    with open(input_file, 'r', newline='') as filereader:\n",
    "        for row in filereader:\n",
    "            print(\"{}\".format(row.strip()))"
   ]
  }
 ],
 "metadata": {
  "kernelspec": {
   "display_name": "Python 3",
   "language": "python",
   "name": "python3"
  },
  "language_info": {
   "codemirror_mode": {
    "name": "ipython",
    "version": 3
   },
   "file_extension": ".py",
   "mimetype": "text/x-python",
   "name": "python",
   "nbconvert_exporter": "python",
   "pygments_lexer": "ipython3",
   "version": "3.6.5"
  }
 },
 "nbformat": 4,
 "nbformat_minor": 2
}
