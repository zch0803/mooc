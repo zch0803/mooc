{
 "cells": [
  {
   "cell_type": "markdown",
   "metadata": {},
   "source": [
    "## Excel\n",
    "### Start from count worksheet"
   ]
  },
  {
   "cell_type": "code",
   "execution_count": null,
   "metadata": {},
   "outputs": [],
   "source": [
    "import sys\n",
    "from xlrd import open_workbook\n",
    "input_file = sys.argv[1]\n",
    "workbook = open_workbook(input_file)\n",
    "print('Number of worksheets:', workbook.nsheets)\n",
    "for worksheet in workbook.sheets():\n",
    "    print(\"WorkSheet Name:\", worksheet.name, \"\\tRows:\", worksheet.nrows, \"\\tColumns:\", worksheet.ncols)"
   ]
  },
  {
   "cell_type": "markdown",
   "metadata": {},
   "source": [
    "### Read and Write a Excel"
   ]
  },
  {
   "cell_type": "code",
   "execution_count": null,
   "metadata": {},
   "outputs": [],
   "source": [
    "#python and process date column\n",
    "from xlwt import Workbook\n",
    "from xlrd import xldate_as_tuple\n",
    "input_file = sys.argv[1]\n",
    "output_file = sys.argv[2]\n",
    "output_workbook = Workbook()\n",
    "output_worksheet = output_workbook.add_sheet('jan_2013_output')\n",
    "with open_workbook(input_file) as workbook:\n",
    "    worksheet = workbook.sheet_by_name('january_2013')\n",
    "    for row_index in range(worksheet.nrows):\n",
    "        for column_index in range(worksheet.ncols):\n",
    "            if worksheet.cell_type(row_index, column_index) == 3: #3 represent date type\n",
    "                date_cell = xldate_as_tuple(worksheet.cell_value(row_index, column_index), workbook.datemode)\n",
    "                date_cell = date(*date_cell[0:3]).strftiem('%m/%d/%Y')\n",
    "                output_worksheet.write(row_index, column_index, date_cell)\n",
    "            else:\n",
    "                non_date_cell = worksheet.cell_value(row_index, column_index)\n",
    "                output_worksheet.write(row_index, column_index, non_date_cell)\n",
    "output_workbook.save(output_file)"
   ]
  },
  {
   "cell_type": "code",
   "execution_count": null,
   "metadata": {},
   "outputs": [],
   "source": [
    "# pandas\n",
    "import pandas as pd\n",
    "input_file = sys.argv[1]\n",
    "output_file = sys.argv[2]\n",
    "data_frame = pd.read_excel(input_file, sheetname='january_2013')\n",
    "writer = pd.ExcelWriter(output_file)\n",
    "data_frame.to_excel(writer, sheet_name='jan_13_output', index=False)\n",
    "writer.save()"
   ]
  },
  {
   "cell_type": "markdown",
   "metadata": {},
   "source": [
    "### Filter specific row"
   ]
  },
  {
   "cell_type": "code",
   "execution_count": null,
   "metadata": {},
   "outputs": [],
   "source": [
    "\n",
    "import sys\n",
    "from datetime import date\n",
    "from xlrd import open_workbook, xldate_as_tuple\n",
    "from xlwt import Workbook\n",
    "input_file = sys.argv[1]\n",
    "output_file = sys.argv[2]\n",
    "output_workbook = Workbook()\n",
    "output_worksheet = output_workbook.add_sheet('jan_2013_output')\n",
    "with open_workbook(input_file) as workbook:\n",
    "    worksheet = workbook.sheet_by_name('january_2013')\n",
    "    data = []\n",
    "    header = worksheet.row_values(0)\n",
    "    data.append(header)\n",
    "    for row_index in range(1,worksheet.nrows):\n",
    "        row_list = []\n",
    "        sale = worksheet.cell_value(row_index, sale_amount_column_index)\n",
    "        sale_amount = float(str(sale).strip('$').replace(',',''))\n",
    "        if sale_amount > 1400.0:\n",
    "            for column_index in range(worksheet.ncols):\n",
    "                cell_value = worksheet.cell_value(row_index, column_index)\n",
    "                cell_type = worksheet.cell_type(row_index, column_index)\n",
    "                if cell_type == 3:\n",
    "                    date_cell = xldate_as_tuple(cell_value,workbook.datemode)\n",
    "                    date_cell = date(*date_cell[0:3]).strftime('%m/%d/%Y')\n",
    "                    row_list.append(date_cell)\n",
    "                else:\n",
    "                    row_list.append(cell_value)\n",
    "        if row_list:\n",
    "            data.append(row_list)\n",
    "    for list_index, output_list in enumerate(data):\n",
    "        for element_index, element in enumerate(output_list):\n",
    "            output_worksheet.write(list_index, element_index, element)\n",
    "output_workbook.save(output_file)"
   ]
  },
  {
   "cell_type": "code",
   "execution_count": null,
   "metadata": {},
   "outputs": [],
   "source": [
    "# pandas\n",
    "import pandas as pd\n",
    "input_file = sys.argv[1]\n",
    "output_file = sys.argv[2]\n",
    "data_frame = pd.read_excel(input_file, sheetname='january_2013')\n",
    "data_frame = data_frame['Sale Amount'].str.replace(r'\\$','')\n",
    "data_frame = data_frame['Sale Amount'].str.replace(r',','')\n",
    "data_frame = data_frame['Sale Amount'].astype(float)\n",
    "data_frame_value_meets_condition = data_frame[data_frame['Sale Amount'] > 1400.0]\n",
    "writer = pd.ExcelWriter(output_file)\n",
    "data_frame_value_meets_condition.to_excel(writer, sheet_name='jan_13_output', index=False)\n",
    "writer.save()"
   ]
  },
  {
   "cell_type": "markdown",
   "metadata": {},
   "source": [
    "### Filter specific column"
   ]
  },
  {
   "cell_type": "code",
   "execution_count": null,
   "metadata": {},
   "outputs": [],
   "source": [
    "import sys\n",
    "from datetime import date\n",
    "from xlrd import open_workbook, xldate_as_tuple\n",
    "from xlwt import Workbook\n",
    "input_file = sys.argv[1]\n",
    "output_file = sys.argv[2]\n",
    "output_workbook = Workbook()\n",
    "output_worksheet = output_workbook.add_sheet('jan_2013_output')\n",
    "my_columns = [1,4]\n",
    "with open_workbook(input_file) as workbook:\n",
    "    worksheet = workbook.sheet_by_name('january_2013')\n",
    "    data = []\n",
    "    header = worksheet.row_values(0)\n",
    "    data.append(header)\n",
    "    for row_index in range(1,worksheet.nrows):\n",
    "        row_list = []\n",
    "        for column_index in my_columns:\n",
    "            cell_value = worksheet.cell_value(row_index, column_index)\n",
    "            cell_type = worksheet.cell_type(row_index, column_index)\n",
    "            if cell_type == 3:\n",
    "                date_cell = xldate_as_tuple(cell_value,workbook.datemode)\n",
    "                date_cell = date(*date_cell[0:3]).strftime('%m/%d/%Y')\n",
    "                row_list.append(date_cell)\n",
    "            else:\n",
    "                row_list.append(cell_value)\n",
    "        if row_list:\n",
    "            data.append(row_list)\n",
    "    for list_index, output_list in enumerate(data):\n",
    "        for element_index, element in enumerate(output_list):\n",
    "            output_worksheet.write(list_index, element_index, element)\n",
    "output_workbook.save(output_file)"
   ]
  },
  {
   "cell_type": "code",
   "execution_count": null,
   "metadata": {},
   "outputs": [],
   "source": [
    "# pandas\n",
    "import pandas as pd\n",
    "input_file = sys.argv[1]\n",
    "output_file = sys.argv[2]\n",
    "data_frame = pd.read_excel(input_file, sheetname='january_2013')\n",
    "data_frame_column_by_index = data_frame.iloc[:,[1,4]]\n",
    "writer = pd.ExcelWriter(output_file)\n",
    "data_frame_column_by_index.to_excel(writer, sheet_name='jan_13_output', index=False)\n",
    "writer.save()"
   ]
  },
  {
   "cell_type": "markdown",
   "metadata": {},
   "source": [
    "### Traverse all worksheets"
   ]
  },
  {
   "cell_type": "code",
   "execution_count": null,
   "metadata": {},
   "outputs": [],
   "source": []
  }
 ],
 "metadata": {
  "kernelspec": {
   "display_name": "Python 3",
   "language": "python",
   "name": "python3"
  },
  "language_info": {
   "codemirror_mode": {
    "name": "ipython",
    "version": 3
   },
   "file_extension": ".py",
   "mimetype": "text/x-python",
   "name": "python",
   "nbconvert_exporter": "python",
   "pygments_lexer": "ipython3",
   "version": "3.6.5"
  }
 },
 "nbformat": 4,
 "nbformat_minor": 2
}
